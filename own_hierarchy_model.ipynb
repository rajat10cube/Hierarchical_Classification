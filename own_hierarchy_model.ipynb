{
  "nbformat": 4,
  "nbformat_minor": 0,
  "metadata": {
    "colab": {
      "provenance": []
    },
    "kernelspec": {
      "name": "python3",
      "display_name": "Python 3"
    },
    "language_info": {
      "name": "python"
    }
  },
  "cells": [
    {
      "cell_type": "code",
      "execution_count": 258,
      "metadata": {
        "id": "3XZhpTmPFYEi"
      },
      "outputs": [],
      "source": [
        "import pandas as pd\n",
        "from sklearn.tree import DecisionTreeClassifier\n",
        "from sklearn.naive_bayes import GaussianNB\n",
        "from sklearn.naive_bayes import MultinomialNB\n",
        "from sklearn.svm import SVC\n",
        "from sklearn.linear_model import LogisticRegression\n",
        "\n",
        "from sklearn.preprocessing import LabelEncoder\n",
        "from sklearn.feature_extraction.text import CountVectorizer\n",
        "from sklearn.feature_extraction.text import TfidfVectorizer\n",
        "\n",
        "from sklearn.metrics import classification_report"
      ]
    },
    {
      "cell_type": "code",
      "source": [
        "import pandas as pd\n",
        "import numpy as np\n",
        "from nltk.corpus import stopwords\n",
        "import nltk\n",
        "import string\n",
        "from sklearn.preprocessing import LabelEncoder\n",
        "from sklearn.feature_extraction.text import CountVectorizer\n",
        "from sklearn.feature_extraction.text import TfidfVectorizer\n",
        "from sklearn.model_selection import train_test_split\n",
        "from sklearn.naive_bayes import MultinomialNB\n",
        "from sklearn.tree import DecisionTreeClassifier\n",
        "from sklearn.metrics import classification_report\n",
        "from sklearn.svm import SVC\n",
        "from sklearn.neighbors import KNeighborsClassifier\n",
        "nltk.download('stopwords')\n",
        "stop = stopwords.words('english')"
      ],
      "metadata": {
        "colab": {
          "base_uri": "https://localhost:8080/"
        },
        "id": "-E_FJ5GuHIpx",
        "outputId": "d964e423-6252-431f-f625-4a898b98d367"
      },
      "execution_count": 259,
      "outputs": [
        {
          "output_type": "stream",
          "name": "stderr",
          "text": [
            "[nltk_data] Downloading package stopwords to /root/nltk_data...\n",
            "[nltk_data]   Package stopwords is already up-to-date!\n"
          ]
        }
      ]
    },
    {
      "cell_type": "code",
      "source": [
        "df_train = pd.read_csv('train_data.csv')\n",
        "df_test = pd.read_csv('test_data.csv')"
      ],
      "metadata": {
        "id": "jqaQM1Y9Fi2l"
      },
      "execution_count": 260,
      "outputs": []
    },
    {
      "cell_type": "code",
      "source": [
        "df = pd.concat([df_train, df_test])"
      ],
      "metadata": {
        "id": "97HEDRuRkBoj"
      },
      "execution_count": 261,
      "outputs": []
    },
    {
      "cell_type": "code",
      "source": [
        "df.reset_index(inplace=True)"
      ],
      "metadata": {
        "id": "L6Ka7V1JlMJg"
      },
      "execution_count": 262,
      "outputs": []
    },
    {
      "cell_type": "code",
      "source": [
        "df"
      ],
      "metadata": {
        "colab": {
          "base_uri": "https://localhost:8080/",
          "height": 424
        },
        "id": "sbEuYxOYlvDE",
        "outputId": "14b3de2a-489d-4b8b-fe6b-4e60e2d4c120"
      },
      "execution_count": 263,
      "outputs": [
        {
          "output_type": "execute_result",
          "data": {
            "text/plain": [
              "    index                                               text  \\\n",
              "0       0  What country was Mikhail Gorbachev the leader ...   \n",
              "1       1  What company uses the unfamiliar faces of its ...   \n",
              "2       2         Name the Four Horsemen of the Apocalypse .   \n",
              "3       3  How much is a Canadian 1967 twenty dollar gold...   \n",
              "4       4  What city has the two steepest streets in the ...   \n",
              "..    ...                                                ...   \n",
              "70     11                                What is hyperopia ?   \n",
              "71     12  What 1920s cowboy star rode Tony the Wonder Ho...   \n",
              "72     13                 What is a fear of odors , body , ?   \n",
              "73     14  What layer of the atmosphere contains most of ...   \n",
              "74     15            Aspartame is known by what other name ?   \n",
              "\n",
              "   TIER_1_WHICH_HALF TIER_2_LETTER_RANGE TIER_3_ACTUAL_LETTER  \n",
              "0    LAST 12 LETTERS     BETWEEN T AND Z                    t  \n",
              "1   FIRST 14 LETTERS     BETWEEN A AND G                    d  \n",
              "2   FIRST 14 LETTERS     BETWEEN H AND N                    j  \n",
              "3   FIRST 14 LETTERS     BETWEEN H AND N                    h  \n",
              "4    LAST 12 LETTERS     BETWEEN T AND Z                    v  \n",
              "..               ...                 ...                  ...  \n",
              "70   LAST 12 LETTERS     BETWEEN T AND Z                    v  \n",
              "71   LAST 12 LETTERS     BETWEEN T AND Z                    v  \n",
              "72   LAST 12 LETTERS     BETWEEN T AND Z                    x  \n",
              "73   LAST 12 LETTERS     BETWEEN T AND Z                    z  \n",
              "74   LAST 12 LETTERS     BETWEEN T AND Z                    z  \n",
              "\n",
              "[75 rows x 5 columns]"
            ],
            "text/html": [
              "\n",
              "  <div id=\"df-433f51d9-5e6e-4297-9086-3764673f11c4\">\n",
              "    <div class=\"colab-df-container\">\n",
              "      <div>\n",
              "<style scoped>\n",
              "    .dataframe tbody tr th:only-of-type {\n",
              "        vertical-align: middle;\n",
              "    }\n",
              "\n",
              "    .dataframe tbody tr th {\n",
              "        vertical-align: top;\n",
              "    }\n",
              "\n",
              "    .dataframe thead th {\n",
              "        text-align: right;\n",
              "    }\n",
              "</style>\n",
              "<table border=\"1\" class=\"dataframe\">\n",
              "  <thead>\n",
              "    <tr style=\"text-align: right;\">\n",
              "      <th></th>\n",
              "      <th>index</th>\n",
              "      <th>text</th>\n",
              "      <th>TIER_1_WHICH_HALF</th>\n",
              "      <th>TIER_2_LETTER_RANGE</th>\n",
              "      <th>TIER_3_ACTUAL_LETTER</th>\n",
              "    </tr>\n",
              "  </thead>\n",
              "  <tbody>\n",
              "    <tr>\n",
              "      <th>0</th>\n",
              "      <td>0</td>\n",
              "      <td>What country was Mikhail Gorbachev the leader ...</td>\n",
              "      <td>LAST 12 LETTERS</td>\n",
              "      <td>BETWEEN T AND Z</td>\n",
              "      <td>t</td>\n",
              "    </tr>\n",
              "    <tr>\n",
              "      <th>1</th>\n",
              "      <td>1</td>\n",
              "      <td>What company uses the unfamiliar faces of its ...</td>\n",
              "      <td>FIRST 14 LETTERS</td>\n",
              "      <td>BETWEEN A AND G</td>\n",
              "      <td>d</td>\n",
              "    </tr>\n",
              "    <tr>\n",
              "      <th>2</th>\n",
              "      <td>2</td>\n",
              "      <td>Name the Four Horsemen of the Apocalypse .</td>\n",
              "      <td>FIRST 14 LETTERS</td>\n",
              "      <td>BETWEEN H AND N</td>\n",
              "      <td>j</td>\n",
              "    </tr>\n",
              "    <tr>\n",
              "      <th>3</th>\n",
              "      <td>3</td>\n",
              "      <td>How much is a Canadian 1967 twenty dollar gold...</td>\n",
              "      <td>FIRST 14 LETTERS</td>\n",
              "      <td>BETWEEN H AND N</td>\n",
              "      <td>h</td>\n",
              "    </tr>\n",
              "    <tr>\n",
              "      <th>4</th>\n",
              "      <td>4</td>\n",
              "      <td>What city has the two steepest streets in the ...</td>\n",
              "      <td>LAST 12 LETTERS</td>\n",
              "      <td>BETWEEN T AND Z</td>\n",
              "      <td>v</td>\n",
              "    </tr>\n",
              "    <tr>\n",
              "      <th>...</th>\n",
              "      <td>...</td>\n",
              "      <td>...</td>\n",
              "      <td>...</td>\n",
              "      <td>...</td>\n",
              "      <td>...</td>\n",
              "    </tr>\n",
              "    <tr>\n",
              "      <th>70</th>\n",
              "      <td>11</td>\n",
              "      <td>What is hyperopia ?</td>\n",
              "      <td>LAST 12 LETTERS</td>\n",
              "      <td>BETWEEN T AND Z</td>\n",
              "      <td>v</td>\n",
              "    </tr>\n",
              "    <tr>\n",
              "      <th>71</th>\n",
              "      <td>12</td>\n",
              "      <td>What 1920s cowboy star rode Tony the Wonder Ho...</td>\n",
              "      <td>LAST 12 LETTERS</td>\n",
              "      <td>BETWEEN T AND Z</td>\n",
              "      <td>v</td>\n",
              "    </tr>\n",
              "    <tr>\n",
              "      <th>72</th>\n",
              "      <td>13</td>\n",
              "      <td>What is a fear of odors , body , ?</td>\n",
              "      <td>LAST 12 LETTERS</td>\n",
              "      <td>BETWEEN T AND Z</td>\n",
              "      <td>x</td>\n",
              "    </tr>\n",
              "    <tr>\n",
              "      <th>73</th>\n",
              "      <td>14</td>\n",
              "      <td>What layer of the atmosphere contains most of ...</td>\n",
              "      <td>LAST 12 LETTERS</td>\n",
              "      <td>BETWEEN T AND Z</td>\n",
              "      <td>z</td>\n",
              "    </tr>\n",
              "    <tr>\n",
              "      <th>74</th>\n",
              "      <td>15</td>\n",
              "      <td>Aspartame is known by what other name ?</td>\n",
              "      <td>LAST 12 LETTERS</td>\n",
              "      <td>BETWEEN T AND Z</td>\n",
              "      <td>z</td>\n",
              "    </tr>\n",
              "  </tbody>\n",
              "</table>\n",
              "<p>75 rows × 5 columns</p>\n",
              "</div>\n",
              "      <button class=\"colab-df-convert\" onclick=\"convertToInteractive('df-433f51d9-5e6e-4297-9086-3764673f11c4')\"\n",
              "              title=\"Convert this dataframe to an interactive table.\"\n",
              "              style=\"display:none;\">\n",
              "        \n",
              "  <svg xmlns=\"http://www.w3.org/2000/svg\" height=\"24px\"viewBox=\"0 0 24 24\"\n",
              "       width=\"24px\">\n",
              "    <path d=\"M0 0h24v24H0V0z\" fill=\"none\"/>\n",
              "    <path d=\"M18.56 5.44l.94 2.06.94-2.06 2.06-.94-2.06-.94-.94-2.06-.94 2.06-2.06.94zm-11 1L8.5 8.5l.94-2.06 2.06-.94-2.06-.94L8.5 2.5l-.94 2.06-2.06.94zm10 10l.94 2.06.94-2.06 2.06-.94-2.06-.94-.94-2.06-.94 2.06-2.06.94z\"/><path d=\"M17.41 7.96l-1.37-1.37c-.4-.4-.92-.59-1.43-.59-.52 0-1.04.2-1.43.59L10.3 9.45l-7.72 7.72c-.78.78-.78 2.05 0 2.83L4 21.41c.39.39.9.59 1.41.59.51 0 1.02-.2 1.41-.59l7.78-7.78 2.81-2.81c.8-.78.8-2.07 0-2.86zM5.41 20L4 18.59l7.72-7.72 1.47 1.35L5.41 20z\"/>\n",
              "  </svg>\n",
              "      </button>\n",
              "      \n",
              "  <style>\n",
              "    .colab-df-container {\n",
              "      display:flex;\n",
              "      flex-wrap:wrap;\n",
              "      gap: 12px;\n",
              "    }\n",
              "\n",
              "    .colab-df-convert {\n",
              "      background-color: #E8F0FE;\n",
              "      border: none;\n",
              "      border-radius: 50%;\n",
              "      cursor: pointer;\n",
              "      display: none;\n",
              "      fill: #1967D2;\n",
              "      height: 32px;\n",
              "      padding: 0 0 0 0;\n",
              "      width: 32px;\n",
              "    }\n",
              "\n",
              "    .colab-df-convert:hover {\n",
              "      background-color: #E2EBFA;\n",
              "      box-shadow: 0px 1px 2px rgba(60, 64, 67, 0.3), 0px 1px 3px 1px rgba(60, 64, 67, 0.15);\n",
              "      fill: #174EA6;\n",
              "    }\n",
              "\n",
              "    [theme=dark] .colab-df-convert {\n",
              "      background-color: #3B4455;\n",
              "      fill: #D2E3FC;\n",
              "    }\n",
              "\n",
              "    [theme=dark] .colab-df-convert:hover {\n",
              "      background-color: #434B5C;\n",
              "      box-shadow: 0px 1px 3px 1px rgba(0, 0, 0, 0.15);\n",
              "      filter: drop-shadow(0px 1px 2px rgba(0, 0, 0, 0.3));\n",
              "      fill: #FFFFFF;\n",
              "    }\n",
              "  </style>\n",
              "\n",
              "      <script>\n",
              "        const buttonEl =\n",
              "          document.querySelector('#df-433f51d9-5e6e-4297-9086-3764673f11c4 button.colab-df-convert');\n",
              "        buttonEl.style.display =\n",
              "          google.colab.kernel.accessAllowed ? 'block' : 'none';\n",
              "\n",
              "        async function convertToInteractive(key) {\n",
              "          const element = document.querySelector('#df-433f51d9-5e6e-4297-9086-3764673f11c4');\n",
              "          const dataTable =\n",
              "            await google.colab.kernel.invokeFunction('convertToInteractive',\n",
              "                                                     [key], {});\n",
              "          if (!dataTable) return;\n",
              "\n",
              "          const docLinkHtml = 'Like what you see? Visit the ' +\n",
              "            '<a target=\"_blank\" href=https://colab.research.google.com/notebooks/data_table.ipynb>data table notebook</a>'\n",
              "            + ' to learn more about interactive tables.';\n",
              "          element.innerHTML = '';\n",
              "          dataTable['output_type'] = 'display_data';\n",
              "          await google.colab.output.renderOutput(dataTable, element);\n",
              "          const docLink = document.createElement('div');\n",
              "          docLink.innerHTML = docLinkHtml;\n",
              "          element.appendChild(docLink);\n",
              "        }\n",
              "      </script>\n",
              "    </div>\n",
              "  </div>\n",
              "  "
            ]
          },
          "metadata": {},
          "execution_count": 263
        }
      ]
    },
    {
      "cell_type": "code",
      "source": [
        "df.drop(columns=['index'],inplace=True)"
      ],
      "metadata": {
        "id": "lhpVxpTHleUA"
      },
      "execution_count": 264,
      "outputs": []
    },
    {
      "cell_type": "code",
      "source": [
        "# Number of stop words: \n",
        "df['stopwords'] = df['text'].apply(lambda x: len([x for x in x.split() if x in stop]))\n",
        "df[['text','stopwords']].head()\n",
        "\n",
        "# The number of punctuation:\n",
        "def count_punct(text):\n",
        "    count = sum([1 for char in text if char in string.punctuation])\n",
        "    return count\n",
        "\n",
        "df['punctuation'] = df['text'].apply(lambda x: count_punct(x))\n",
        "df[['text','punctuation']].head()\n",
        "\n",
        "# Number of numerical characters:\n",
        "df['numerics'] = df['text'].apply(lambda x: len([x for x in x.split() if x.isdigit()]))\n",
        "df[['text','numerics']].head()\n",
        "\n",
        "#Number of Uppercase words:\n",
        "df['upper'] = df['text'].apply(lambda x: len([x for x in x.split() if x.isupper()]))\n",
        "df[['text','upper']].head()\n",
        "\n",
        "# Make all text lower case:\n",
        "df['text'] = df['text'].apply(lambda x: \" \".join(x.lower() for x in x.split()))\n",
        "df['text'].head()\n",
        "\n",
        "# Removing Punctuation:\n",
        "df['text'] = df['text'].str.replace('[^\\w\\s]','')\n",
        "df['text'].head()\n",
        "\n",
        "# Removal of Stop Words\n",
        "df['text'] = df['text'].apply(lambda x: \" \".join(x for x in x.split() if x not in stop))\n",
        "df['text'].sample(10)\n",
        "\n",
        "# Number of Words\n",
        "df['word_count'] = df['text'].apply(lambda x: len(str(x).split(\" \")))\n",
        "df[['text','word_count']].head()\n",
        "\n",
        "# Number of characters\n",
        "df['char_count'] = df['text'].str.len() ## this also includes spaces\n",
        "df[['text','char_count']].head()\n",
        "\n",
        "# Average Word Length\n",
        "def avg_word(sentence):\n",
        "  words = sentence.split()\n",
        "  return (sum(len(word) for word in words)/(len(words)+0.000001))\n",
        "df['avg_word'] = df['text'].apply(lambda x: avg_word(x)).round(1)\n",
        "df[['text','avg_word']].head()"
      ],
      "metadata": {
        "colab": {
          "base_uri": "https://localhost:8080/",
          "height": 262
        },
        "id": "Kj1uI1FZHLjC",
        "outputId": "a442db30-bf41-4d4f-a296-06affe08cfff"
      },
      "execution_count": 265,
      "outputs": [
        {
          "output_type": "stream",
          "name": "stderr",
          "text": [
            "<ipython-input-265-19b070ca13a6>:26: FutureWarning: The default value of regex will change from True to False in a future version.\n",
            "  df['text'] = df['text'].str.replace('[^\\w\\s]','')\n"
          ]
        },
        {
          "output_type": "execute_result",
          "data": {
            "text/plain": [
              "                                                text  avg_word\n",
              "0                   country mikhail gorbachev leader       7.2\n",
              "1  company uses unfamiliar faces celebrity spokes...       7.1\n",
              "2                      name four horsemen apocalypse       6.5\n",
              "3   much canadian 1967 twenty dollar gold coin worth       5.1\n",
              "4                       city two steepest streets us       4.8"
            ],
            "text/html": [
              "\n",
              "  <div id=\"df-f7061e20-0f3f-4c80-85b6-06804a1c3189\">\n",
              "    <div class=\"colab-df-container\">\n",
              "      <div>\n",
              "<style scoped>\n",
              "    .dataframe tbody tr th:only-of-type {\n",
              "        vertical-align: middle;\n",
              "    }\n",
              "\n",
              "    .dataframe tbody tr th {\n",
              "        vertical-align: top;\n",
              "    }\n",
              "\n",
              "    .dataframe thead th {\n",
              "        text-align: right;\n",
              "    }\n",
              "</style>\n",
              "<table border=\"1\" class=\"dataframe\">\n",
              "  <thead>\n",
              "    <tr style=\"text-align: right;\">\n",
              "      <th></th>\n",
              "      <th>text</th>\n",
              "      <th>avg_word</th>\n",
              "    </tr>\n",
              "  </thead>\n",
              "  <tbody>\n",
              "    <tr>\n",
              "      <th>0</th>\n",
              "      <td>country mikhail gorbachev leader</td>\n",
              "      <td>7.2</td>\n",
              "    </tr>\n",
              "    <tr>\n",
              "      <th>1</th>\n",
              "      <td>company uses unfamiliar faces celebrity spokes...</td>\n",
              "      <td>7.1</td>\n",
              "    </tr>\n",
              "    <tr>\n",
              "      <th>2</th>\n",
              "      <td>name four horsemen apocalypse</td>\n",
              "      <td>6.5</td>\n",
              "    </tr>\n",
              "    <tr>\n",
              "      <th>3</th>\n",
              "      <td>much canadian 1967 twenty dollar gold coin worth</td>\n",
              "      <td>5.1</td>\n",
              "    </tr>\n",
              "    <tr>\n",
              "      <th>4</th>\n",
              "      <td>city two steepest streets us</td>\n",
              "      <td>4.8</td>\n",
              "    </tr>\n",
              "  </tbody>\n",
              "</table>\n",
              "</div>\n",
              "      <button class=\"colab-df-convert\" onclick=\"convertToInteractive('df-f7061e20-0f3f-4c80-85b6-06804a1c3189')\"\n",
              "              title=\"Convert this dataframe to an interactive table.\"\n",
              "              style=\"display:none;\">\n",
              "        \n",
              "  <svg xmlns=\"http://www.w3.org/2000/svg\" height=\"24px\"viewBox=\"0 0 24 24\"\n",
              "       width=\"24px\">\n",
              "    <path d=\"M0 0h24v24H0V0z\" fill=\"none\"/>\n",
              "    <path d=\"M18.56 5.44l.94 2.06.94-2.06 2.06-.94-2.06-.94-.94-2.06-.94 2.06-2.06.94zm-11 1L8.5 8.5l.94-2.06 2.06-.94-2.06-.94L8.5 2.5l-.94 2.06-2.06.94zm10 10l.94 2.06.94-2.06 2.06-.94-2.06-.94-.94-2.06-.94 2.06-2.06.94z\"/><path d=\"M17.41 7.96l-1.37-1.37c-.4-.4-.92-.59-1.43-.59-.52 0-1.04.2-1.43.59L10.3 9.45l-7.72 7.72c-.78.78-.78 2.05 0 2.83L4 21.41c.39.39.9.59 1.41.59.51 0 1.02-.2 1.41-.59l7.78-7.78 2.81-2.81c.8-.78.8-2.07 0-2.86zM5.41 20L4 18.59l7.72-7.72 1.47 1.35L5.41 20z\"/>\n",
              "  </svg>\n",
              "      </button>\n",
              "      \n",
              "  <style>\n",
              "    .colab-df-container {\n",
              "      display:flex;\n",
              "      flex-wrap:wrap;\n",
              "      gap: 12px;\n",
              "    }\n",
              "\n",
              "    .colab-df-convert {\n",
              "      background-color: #E8F0FE;\n",
              "      border: none;\n",
              "      border-radius: 50%;\n",
              "      cursor: pointer;\n",
              "      display: none;\n",
              "      fill: #1967D2;\n",
              "      height: 32px;\n",
              "      padding: 0 0 0 0;\n",
              "      width: 32px;\n",
              "    }\n",
              "\n",
              "    .colab-df-convert:hover {\n",
              "      background-color: #E2EBFA;\n",
              "      box-shadow: 0px 1px 2px rgba(60, 64, 67, 0.3), 0px 1px 3px 1px rgba(60, 64, 67, 0.15);\n",
              "      fill: #174EA6;\n",
              "    }\n",
              "\n",
              "    [theme=dark] .colab-df-convert {\n",
              "      background-color: #3B4455;\n",
              "      fill: #D2E3FC;\n",
              "    }\n",
              "\n",
              "    [theme=dark] .colab-df-convert:hover {\n",
              "      background-color: #434B5C;\n",
              "      box-shadow: 0px 1px 3px 1px rgba(0, 0, 0, 0.15);\n",
              "      filter: drop-shadow(0px 1px 2px rgba(0, 0, 0, 0.3));\n",
              "      fill: #FFFFFF;\n",
              "    }\n",
              "  </style>\n",
              "\n",
              "      <script>\n",
              "        const buttonEl =\n",
              "          document.querySelector('#df-f7061e20-0f3f-4c80-85b6-06804a1c3189 button.colab-df-convert');\n",
              "        buttonEl.style.display =\n",
              "          google.colab.kernel.accessAllowed ? 'block' : 'none';\n",
              "\n",
              "        async function convertToInteractive(key) {\n",
              "          const element = document.querySelector('#df-f7061e20-0f3f-4c80-85b6-06804a1c3189');\n",
              "          const dataTable =\n",
              "            await google.colab.kernel.invokeFunction('convertToInteractive',\n",
              "                                                     [key], {});\n",
              "          if (!dataTable) return;\n",
              "\n",
              "          const docLinkHtml = 'Like what you see? Visit the ' +\n",
              "            '<a target=\"_blank\" href=https://colab.research.google.com/notebooks/data_table.ipynb>data table notebook</a>'\n",
              "            + ' to learn more about interactive tables.';\n",
              "          element.innerHTML = '';\n",
              "          dataTable['output_type'] = 'display_data';\n",
              "          await google.colab.output.renderOutput(dataTable, element);\n",
              "          const docLink = document.createElement('div');\n",
              "          docLink.innerHTML = docLinkHtml;\n",
              "          element.appendChild(docLink);\n",
              "        }\n",
              "      </script>\n",
              "    </div>\n",
              "  </div>\n",
              "  "
            ]
          },
          "metadata": {},
          "execution_count": 265
        }
      ]
    },
    {
      "cell_type": "code",
      "source": [
        "# df = df.drop(columns=['Unnamed: 0'])"
      ],
      "metadata": {
        "id": "hCnulHV8HDvQ"
      },
      "execution_count": 266,
      "outputs": []
    },
    {
      "cell_type": "code",
      "source": [
        "df.head()"
      ],
      "metadata": {
        "colab": {
          "base_uri": "https://localhost:8080/",
          "height": 565
        },
        "id": "pYaIbVTdNKJF",
        "outputId": "b11dae9f-860c-4d83-b26f-e1d94107a6fe"
      },
      "execution_count": 267,
      "outputs": [
        {
          "output_type": "execute_result",
          "data": {
            "text/plain": [
              "                                                text TIER_1_WHICH_HALF  \\\n",
              "0                   country mikhail gorbachev leader   LAST 12 LETTERS   \n",
              "1  company uses unfamiliar faces celebrity spokes...  FIRST 14 LETTERS   \n",
              "2                      name four horsemen apocalypse  FIRST 14 LETTERS   \n",
              "3   much canadian 1967 twenty dollar gold coin worth  FIRST 14 LETTERS   \n",
              "4                       city two steepest streets us   LAST 12 LETTERS   \n",
              "\n",
              "  TIER_2_LETTER_RANGE TIER_3_ACTUAL_LETTER  stopwords  punctuation  numerics  \\\n",
              "0     BETWEEN T AND Z                    t          3            1         0   \n",
              "1     BETWEEN A AND G                    d          7            1         0   \n",
              "2     BETWEEN H AND N                    j          3            1         0   \n",
              "3     BETWEEN H AND N                    h          2            1         1   \n",
              "4     BETWEEN T AND Z                    v          4            3         0   \n",
              "\n",
              "   upper  word_count  char_count  avg_word  \n",
              "0      0           4          32       7.2  \n",
              "1      0           9          72       7.1  \n",
              "2      0           4          29       6.5  \n",
              "3      0           8          48       5.1  \n",
              "4      1           5          28       4.8  "
            ],
            "text/html": [
              "\n",
              "  <div id=\"df-e1c8dbba-44f9-448e-9de8-3e75e9bb141c\">\n",
              "    <div class=\"colab-df-container\">\n",
              "      <div>\n",
              "<style scoped>\n",
              "    .dataframe tbody tr th:only-of-type {\n",
              "        vertical-align: middle;\n",
              "    }\n",
              "\n",
              "    .dataframe tbody tr th {\n",
              "        vertical-align: top;\n",
              "    }\n",
              "\n",
              "    .dataframe thead th {\n",
              "        text-align: right;\n",
              "    }\n",
              "</style>\n",
              "<table border=\"1\" class=\"dataframe\">\n",
              "  <thead>\n",
              "    <tr style=\"text-align: right;\">\n",
              "      <th></th>\n",
              "      <th>text</th>\n",
              "      <th>TIER_1_WHICH_HALF</th>\n",
              "      <th>TIER_2_LETTER_RANGE</th>\n",
              "      <th>TIER_3_ACTUAL_LETTER</th>\n",
              "      <th>stopwords</th>\n",
              "      <th>punctuation</th>\n",
              "      <th>numerics</th>\n",
              "      <th>upper</th>\n",
              "      <th>word_count</th>\n",
              "      <th>char_count</th>\n",
              "      <th>avg_word</th>\n",
              "    </tr>\n",
              "  </thead>\n",
              "  <tbody>\n",
              "    <tr>\n",
              "      <th>0</th>\n",
              "      <td>country mikhail gorbachev leader</td>\n",
              "      <td>LAST 12 LETTERS</td>\n",
              "      <td>BETWEEN T AND Z</td>\n",
              "      <td>t</td>\n",
              "      <td>3</td>\n",
              "      <td>1</td>\n",
              "      <td>0</td>\n",
              "      <td>0</td>\n",
              "      <td>4</td>\n",
              "      <td>32</td>\n",
              "      <td>7.2</td>\n",
              "    </tr>\n",
              "    <tr>\n",
              "      <th>1</th>\n",
              "      <td>company uses unfamiliar faces celebrity spokes...</td>\n",
              "      <td>FIRST 14 LETTERS</td>\n",
              "      <td>BETWEEN A AND G</td>\n",
              "      <td>d</td>\n",
              "      <td>7</td>\n",
              "      <td>1</td>\n",
              "      <td>0</td>\n",
              "      <td>0</td>\n",
              "      <td>9</td>\n",
              "      <td>72</td>\n",
              "      <td>7.1</td>\n",
              "    </tr>\n",
              "    <tr>\n",
              "      <th>2</th>\n",
              "      <td>name four horsemen apocalypse</td>\n",
              "      <td>FIRST 14 LETTERS</td>\n",
              "      <td>BETWEEN H AND N</td>\n",
              "      <td>j</td>\n",
              "      <td>3</td>\n",
              "      <td>1</td>\n",
              "      <td>0</td>\n",
              "      <td>0</td>\n",
              "      <td>4</td>\n",
              "      <td>29</td>\n",
              "      <td>6.5</td>\n",
              "    </tr>\n",
              "    <tr>\n",
              "      <th>3</th>\n",
              "      <td>much canadian 1967 twenty dollar gold coin worth</td>\n",
              "      <td>FIRST 14 LETTERS</td>\n",
              "      <td>BETWEEN H AND N</td>\n",
              "      <td>h</td>\n",
              "      <td>2</td>\n",
              "      <td>1</td>\n",
              "      <td>1</td>\n",
              "      <td>0</td>\n",
              "      <td>8</td>\n",
              "      <td>48</td>\n",
              "      <td>5.1</td>\n",
              "    </tr>\n",
              "    <tr>\n",
              "      <th>4</th>\n",
              "      <td>city two steepest streets us</td>\n",
              "      <td>LAST 12 LETTERS</td>\n",
              "      <td>BETWEEN T AND Z</td>\n",
              "      <td>v</td>\n",
              "      <td>4</td>\n",
              "      <td>3</td>\n",
              "      <td>0</td>\n",
              "      <td>1</td>\n",
              "      <td>5</td>\n",
              "      <td>28</td>\n",
              "      <td>4.8</td>\n",
              "    </tr>\n",
              "  </tbody>\n",
              "</table>\n",
              "</div>\n",
              "      <button class=\"colab-df-convert\" onclick=\"convertToInteractive('df-e1c8dbba-44f9-448e-9de8-3e75e9bb141c')\"\n",
              "              title=\"Convert this dataframe to an interactive table.\"\n",
              "              style=\"display:none;\">\n",
              "        \n",
              "  <svg xmlns=\"http://www.w3.org/2000/svg\" height=\"24px\"viewBox=\"0 0 24 24\"\n",
              "       width=\"24px\">\n",
              "    <path d=\"M0 0h24v24H0V0z\" fill=\"none\"/>\n",
              "    <path d=\"M18.56 5.44l.94 2.06.94-2.06 2.06-.94-2.06-.94-.94-2.06-.94 2.06-2.06.94zm-11 1L8.5 8.5l.94-2.06 2.06-.94-2.06-.94L8.5 2.5l-.94 2.06-2.06.94zm10 10l.94 2.06.94-2.06 2.06-.94-2.06-.94-.94-2.06-.94 2.06-2.06.94z\"/><path d=\"M17.41 7.96l-1.37-1.37c-.4-.4-.92-.59-1.43-.59-.52 0-1.04.2-1.43.59L10.3 9.45l-7.72 7.72c-.78.78-.78 2.05 0 2.83L4 21.41c.39.39.9.59 1.41.59.51 0 1.02-.2 1.41-.59l7.78-7.78 2.81-2.81c.8-.78.8-2.07 0-2.86zM5.41 20L4 18.59l7.72-7.72 1.47 1.35L5.41 20z\"/>\n",
              "  </svg>\n",
              "      </button>\n",
              "      \n",
              "  <style>\n",
              "    .colab-df-container {\n",
              "      display:flex;\n",
              "      flex-wrap:wrap;\n",
              "      gap: 12px;\n",
              "    }\n",
              "\n",
              "    .colab-df-convert {\n",
              "      background-color: #E8F0FE;\n",
              "      border: none;\n",
              "      border-radius: 50%;\n",
              "      cursor: pointer;\n",
              "      display: none;\n",
              "      fill: #1967D2;\n",
              "      height: 32px;\n",
              "      padding: 0 0 0 0;\n",
              "      width: 32px;\n",
              "    }\n",
              "\n",
              "    .colab-df-convert:hover {\n",
              "      background-color: #E2EBFA;\n",
              "      box-shadow: 0px 1px 2px rgba(60, 64, 67, 0.3), 0px 1px 3px 1px rgba(60, 64, 67, 0.15);\n",
              "      fill: #174EA6;\n",
              "    }\n",
              "\n",
              "    [theme=dark] .colab-df-convert {\n",
              "      background-color: #3B4455;\n",
              "      fill: #D2E3FC;\n",
              "    }\n",
              "\n",
              "    [theme=dark] .colab-df-convert:hover {\n",
              "      background-color: #434B5C;\n",
              "      box-shadow: 0px 1px 3px 1px rgba(0, 0, 0, 0.15);\n",
              "      filter: drop-shadow(0px 1px 2px rgba(0, 0, 0, 0.3));\n",
              "      fill: #FFFFFF;\n",
              "    }\n",
              "  </style>\n",
              "\n",
              "      <script>\n",
              "        const buttonEl =\n",
              "          document.querySelector('#df-e1c8dbba-44f9-448e-9de8-3e75e9bb141c button.colab-df-convert');\n",
              "        buttonEl.style.display =\n",
              "          google.colab.kernel.accessAllowed ? 'block' : 'none';\n",
              "\n",
              "        async function convertToInteractive(key) {\n",
              "          const element = document.querySelector('#df-e1c8dbba-44f9-448e-9de8-3e75e9bb141c');\n",
              "          const dataTable =\n",
              "            await google.colab.kernel.invokeFunction('convertToInteractive',\n",
              "                                                     [key], {});\n",
              "          if (!dataTable) return;\n",
              "\n",
              "          const docLinkHtml = 'Like what you see? Visit the ' +\n",
              "            '<a target=\"_blank\" href=https://colab.research.google.com/notebooks/data_table.ipynb>data table notebook</a>'\n",
              "            + ' to learn more about interactive tables.';\n",
              "          element.innerHTML = '';\n",
              "          dataTable['output_type'] = 'display_data';\n",
              "          await google.colab.output.renderOutput(dataTable, element);\n",
              "          const docLink = document.createElement('div');\n",
              "          docLink.innerHTML = docLinkHtml;\n",
              "          element.appendChild(docLink);\n",
              "        }\n",
              "      </script>\n",
              "    </div>\n",
              "  </div>\n",
              "  "
            ]
          },
          "metadata": {},
          "execution_count": 267
        }
      ]
    },
    {
      "cell_type": "code",
      "source": [
        "vectorizer = TfidfVectorizer(analyzer='char')\n",
        "count_vect_df = pd.DataFrame(vectorizer.fit_transform(df['text']).todense(), columns=vectorizer.get_feature_names_out())\n",
        "df = pd.concat([df, count_vect_df], axis=1)"
      ],
      "metadata": {
        "id": "S132Fq4dI_bW"
      },
      "execution_count": 268,
      "outputs": []
    },
    {
      "cell_type": "code",
      "source": [
        "df.head()"
      ],
      "metadata": {
        "colab": {
          "base_uri": "https://localhost:8080/",
          "height": 595
        },
        "id": "-iWjz7k1HkHs",
        "outputId": "e7e41920-1f32-4f91-8f66-5c0ca769f844"
      },
      "execution_count": 269,
      "outputs": [
        {
          "output_type": "execute_result",
          "data": {
            "text/plain": [
              "                                                text TIER_1_WHICH_HALF  \\\n",
              "0                   country mikhail gorbachev leader   LAST 12 LETTERS   \n",
              "1  company uses unfamiliar faces celebrity spokes...  FIRST 14 LETTERS   \n",
              "2                      name four horsemen apocalypse  FIRST 14 LETTERS   \n",
              "3   much canadian 1967 twenty dollar gold coin worth  FIRST 14 LETTERS   \n",
              "4                       city two steepest streets us   LAST 12 LETTERS   \n",
              "\n",
              "  TIER_2_LETTER_RANGE TIER_3_ACTUAL_LETTER  stopwords  punctuation  numerics  \\\n",
              "0     BETWEEN T AND Z                    t          3            1         0   \n",
              "1     BETWEEN A AND G                    d          7            1         0   \n",
              "2     BETWEEN H AND N                    j          3            1         0   \n",
              "3     BETWEEN H AND N                    h          2            1         1   \n",
              "4     BETWEEN T AND Z                    v          4            3         0   \n",
              "\n",
              "   upper  word_count  char_count  ...    q         r         s         t  \\\n",
              "0      0           4          32  ...  0.0  0.336223  0.000000  0.100729   \n",
              "1      0           9          72  ...  0.0  0.196076  0.286313  0.132170   \n",
              "2      0           4          29  ...  0.0  0.230939  0.224815  0.000000   \n",
              "3      0           8          48  ...  0.0  0.143441  0.000000  0.193379   \n",
              "4      1           5          28  ...  0.0  0.100690  0.490097  0.542980   \n",
              "\n",
              "          u         v         w    x         y    z  \n",
              "0  0.160932  0.243991  0.000000  0.0  0.158379  0.0  \n",
              "1  0.281554  0.000000  0.000000  0.0  0.138543  0.0  \n",
              "2  0.165808  0.000000  0.000000  0.0  0.163177  0.0  \n",
              "3  0.102986  0.000000  0.249745  0.0  0.101352  0.0  \n",
              "4  0.144585  0.000000  0.175311  0.0  0.142291  0.0  \n",
              "\n",
              "[5 rows x 48 columns]"
            ],
            "text/html": [
              "\n",
              "  <div id=\"df-7c090438-f1a1-4ddf-9d30-6042706c5cf9\">\n",
              "    <div class=\"colab-df-container\">\n",
              "      <div>\n",
              "<style scoped>\n",
              "    .dataframe tbody tr th:only-of-type {\n",
              "        vertical-align: middle;\n",
              "    }\n",
              "\n",
              "    .dataframe tbody tr th {\n",
              "        vertical-align: top;\n",
              "    }\n",
              "\n",
              "    .dataframe thead th {\n",
              "        text-align: right;\n",
              "    }\n",
              "</style>\n",
              "<table border=\"1\" class=\"dataframe\">\n",
              "  <thead>\n",
              "    <tr style=\"text-align: right;\">\n",
              "      <th></th>\n",
              "      <th>text</th>\n",
              "      <th>TIER_1_WHICH_HALF</th>\n",
              "      <th>TIER_2_LETTER_RANGE</th>\n",
              "      <th>TIER_3_ACTUAL_LETTER</th>\n",
              "      <th>stopwords</th>\n",
              "      <th>punctuation</th>\n",
              "      <th>numerics</th>\n",
              "      <th>upper</th>\n",
              "      <th>word_count</th>\n",
              "      <th>char_count</th>\n",
              "      <th>...</th>\n",
              "      <th>q</th>\n",
              "      <th>r</th>\n",
              "      <th>s</th>\n",
              "      <th>t</th>\n",
              "      <th>u</th>\n",
              "      <th>v</th>\n",
              "      <th>w</th>\n",
              "      <th>x</th>\n",
              "      <th>y</th>\n",
              "      <th>z</th>\n",
              "    </tr>\n",
              "  </thead>\n",
              "  <tbody>\n",
              "    <tr>\n",
              "      <th>0</th>\n",
              "      <td>country mikhail gorbachev leader</td>\n",
              "      <td>LAST 12 LETTERS</td>\n",
              "      <td>BETWEEN T AND Z</td>\n",
              "      <td>t</td>\n",
              "      <td>3</td>\n",
              "      <td>1</td>\n",
              "      <td>0</td>\n",
              "      <td>0</td>\n",
              "      <td>4</td>\n",
              "      <td>32</td>\n",
              "      <td>...</td>\n",
              "      <td>0.0</td>\n",
              "      <td>0.336223</td>\n",
              "      <td>0.000000</td>\n",
              "      <td>0.100729</td>\n",
              "      <td>0.160932</td>\n",
              "      <td>0.243991</td>\n",
              "      <td>0.000000</td>\n",
              "      <td>0.0</td>\n",
              "      <td>0.158379</td>\n",
              "      <td>0.0</td>\n",
              "    </tr>\n",
              "    <tr>\n",
              "      <th>1</th>\n",
              "      <td>company uses unfamiliar faces celebrity spokes...</td>\n",
              "      <td>FIRST 14 LETTERS</td>\n",
              "      <td>BETWEEN A AND G</td>\n",
              "      <td>d</td>\n",
              "      <td>7</td>\n",
              "      <td>1</td>\n",
              "      <td>0</td>\n",
              "      <td>0</td>\n",
              "      <td>9</td>\n",
              "      <td>72</td>\n",
              "      <td>...</td>\n",
              "      <td>0.0</td>\n",
              "      <td>0.196076</td>\n",
              "      <td>0.286313</td>\n",
              "      <td>0.132170</td>\n",
              "      <td>0.281554</td>\n",
              "      <td>0.000000</td>\n",
              "      <td>0.000000</td>\n",
              "      <td>0.0</td>\n",
              "      <td>0.138543</td>\n",
              "      <td>0.0</td>\n",
              "    </tr>\n",
              "    <tr>\n",
              "      <th>2</th>\n",
              "      <td>name four horsemen apocalypse</td>\n",
              "      <td>FIRST 14 LETTERS</td>\n",
              "      <td>BETWEEN H AND N</td>\n",
              "      <td>j</td>\n",
              "      <td>3</td>\n",
              "      <td>1</td>\n",
              "      <td>0</td>\n",
              "      <td>0</td>\n",
              "      <td>4</td>\n",
              "      <td>29</td>\n",
              "      <td>...</td>\n",
              "      <td>0.0</td>\n",
              "      <td>0.230939</td>\n",
              "      <td>0.224815</td>\n",
              "      <td>0.000000</td>\n",
              "      <td>0.165808</td>\n",
              "      <td>0.000000</td>\n",
              "      <td>0.000000</td>\n",
              "      <td>0.0</td>\n",
              "      <td>0.163177</td>\n",
              "      <td>0.0</td>\n",
              "    </tr>\n",
              "    <tr>\n",
              "      <th>3</th>\n",
              "      <td>much canadian 1967 twenty dollar gold coin worth</td>\n",
              "      <td>FIRST 14 LETTERS</td>\n",
              "      <td>BETWEEN H AND N</td>\n",
              "      <td>h</td>\n",
              "      <td>2</td>\n",
              "      <td>1</td>\n",
              "      <td>1</td>\n",
              "      <td>0</td>\n",
              "      <td>8</td>\n",
              "      <td>48</td>\n",
              "      <td>...</td>\n",
              "      <td>0.0</td>\n",
              "      <td>0.143441</td>\n",
              "      <td>0.000000</td>\n",
              "      <td>0.193379</td>\n",
              "      <td>0.102986</td>\n",
              "      <td>0.000000</td>\n",
              "      <td>0.249745</td>\n",
              "      <td>0.0</td>\n",
              "      <td>0.101352</td>\n",
              "      <td>0.0</td>\n",
              "    </tr>\n",
              "    <tr>\n",
              "      <th>4</th>\n",
              "      <td>city two steepest streets us</td>\n",
              "      <td>LAST 12 LETTERS</td>\n",
              "      <td>BETWEEN T AND Z</td>\n",
              "      <td>v</td>\n",
              "      <td>4</td>\n",
              "      <td>3</td>\n",
              "      <td>0</td>\n",
              "      <td>1</td>\n",
              "      <td>5</td>\n",
              "      <td>28</td>\n",
              "      <td>...</td>\n",
              "      <td>0.0</td>\n",
              "      <td>0.100690</td>\n",
              "      <td>0.490097</td>\n",
              "      <td>0.542980</td>\n",
              "      <td>0.144585</td>\n",
              "      <td>0.000000</td>\n",
              "      <td>0.175311</td>\n",
              "      <td>0.0</td>\n",
              "      <td>0.142291</td>\n",
              "      <td>0.0</td>\n",
              "    </tr>\n",
              "  </tbody>\n",
              "</table>\n",
              "<p>5 rows × 48 columns</p>\n",
              "</div>\n",
              "      <button class=\"colab-df-convert\" onclick=\"convertToInteractive('df-7c090438-f1a1-4ddf-9d30-6042706c5cf9')\"\n",
              "              title=\"Convert this dataframe to an interactive table.\"\n",
              "              style=\"display:none;\">\n",
              "        \n",
              "  <svg xmlns=\"http://www.w3.org/2000/svg\" height=\"24px\"viewBox=\"0 0 24 24\"\n",
              "       width=\"24px\">\n",
              "    <path d=\"M0 0h24v24H0V0z\" fill=\"none\"/>\n",
              "    <path d=\"M18.56 5.44l.94 2.06.94-2.06 2.06-.94-2.06-.94-.94-2.06-.94 2.06-2.06.94zm-11 1L8.5 8.5l.94-2.06 2.06-.94-2.06-.94L8.5 2.5l-.94 2.06-2.06.94zm10 10l.94 2.06.94-2.06 2.06-.94-2.06-.94-.94-2.06-.94 2.06-2.06.94z\"/><path d=\"M17.41 7.96l-1.37-1.37c-.4-.4-.92-.59-1.43-.59-.52 0-1.04.2-1.43.59L10.3 9.45l-7.72 7.72c-.78.78-.78 2.05 0 2.83L4 21.41c.39.39.9.59 1.41.59.51 0 1.02-.2 1.41-.59l7.78-7.78 2.81-2.81c.8-.78.8-2.07 0-2.86zM5.41 20L4 18.59l7.72-7.72 1.47 1.35L5.41 20z\"/>\n",
              "  </svg>\n",
              "      </button>\n",
              "      \n",
              "  <style>\n",
              "    .colab-df-container {\n",
              "      display:flex;\n",
              "      flex-wrap:wrap;\n",
              "      gap: 12px;\n",
              "    }\n",
              "\n",
              "    .colab-df-convert {\n",
              "      background-color: #E8F0FE;\n",
              "      border: none;\n",
              "      border-radius: 50%;\n",
              "      cursor: pointer;\n",
              "      display: none;\n",
              "      fill: #1967D2;\n",
              "      height: 32px;\n",
              "      padding: 0 0 0 0;\n",
              "      width: 32px;\n",
              "    }\n",
              "\n",
              "    .colab-df-convert:hover {\n",
              "      background-color: #E2EBFA;\n",
              "      box-shadow: 0px 1px 2px rgba(60, 64, 67, 0.3), 0px 1px 3px 1px rgba(60, 64, 67, 0.15);\n",
              "      fill: #174EA6;\n",
              "    }\n",
              "\n",
              "    [theme=dark] .colab-df-convert {\n",
              "      background-color: #3B4455;\n",
              "      fill: #D2E3FC;\n",
              "    }\n",
              "\n",
              "    [theme=dark] .colab-df-convert:hover {\n",
              "      background-color: #434B5C;\n",
              "      box-shadow: 0px 1px 3px 1px rgba(0, 0, 0, 0.15);\n",
              "      filter: drop-shadow(0px 1px 2px rgba(0, 0, 0, 0.3));\n",
              "      fill: #FFFFFF;\n",
              "    }\n",
              "  </style>\n",
              "\n",
              "      <script>\n",
              "        const buttonEl =\n",
              "          document.querySelector('#df-7c090438-f1a1-4ddf-9d30-6042706c5cf9 button.colab-df-convert');\n",
              "        buttonEl.style.display =\n",
              "          google.colab.kernel.accessAllowed ? 'block' : 'none';\n",
              "\n",
              "        async function convertToInteractive(key) {\n",
              "          const element = document.querySelector('#df-7c090438-f1a1-4ddf-9d30-6042706c5cf9');\n",
              "          const dataTable =\n",
              "            await google.colab.kernel.invokeFunction('convertToInteractive',\n",
              "                                                     [key], {});\n",
              "          if (!dataTable) return;\n",
              "\n",
              "          const docLinkHtml = 'Like what you see? Visit the ' +\n",
              "            '<a target=\"_blank\" href=https://colab.research.google.com/notebooks/data_table.ipynb>data table notebook</a>'\n",
              "            + ' to learn more about interactive tables.';\n",
              "          element.innerHTML = '';\n",
              "          dataTable['output_type'] = 'display_data';\n",
              "          await google.colab.output.renderOutput(dataTable, element);\n",
              "          const docLink = document.createElement('div');\n",
              "          docLink.innerHTML = docLinkHtml;\n",
              "          element.appendChild(docLink);\n",
              "        }\n",
              "      </script>\n",
              "    </div>\n",
              "  </div>\n",
              "  "
            ]
          },
          "metadata": {},
          "execution_count": 269
        }
      ]
    },
    {
      "cell_type": "code",
      "source": [
        "# train_ratio = 0.8\n",
        "# total_rows = df.shape[0]\n",
        "# df_train = df.sample(n=int(total_rows*train_ratio), random_state=12)\n",
        "# df_test=df.drop(df_train.index)\n",
        "df_train = df.head(59)\n",
        "df_test = df.tail(16)"
      ],
      "metadata": {
        "id": "5VAAz0VSHyxU"
      },
      "execution_count": 270,
      "outputs": []
    },
    {
      "cell_type": "code",
      "source": [
        "# Predicting TIER_1_WHICH_HALF"
      ],
      "metadata": {
        "id": "XUrXphpgMyj9"
      },
      "execution_count": 271,
      "outputs": []
    },
    {
      "cell_type": "code",
      "source": [
        "train_x_1 = df_train.drop(columns=['text','TIER_1_WHICH_HALF','TIER_2_LETTER_RANGE','TIER_3_ACTUAL_LETTER'])\n",
        "test_x_1 = df_test.drop(columns=['text','TIER_1_WHICH_HALF','TIER_2_LETTER_RANGE','TIER_3_ACTUAL_LETTER'])\n",
        "train_y_1 = df_train['TIER_1_WHICH_HALF']\n",
        "test_y_1 = df_test['TIER_1_WHICH_HALF']"
      ],
      "metadata": {
        "id": "hvVCjPLSFoOc"
      },
      "execution_count": 272,
      "outputs": []
    },
    {
      "cell_type": "code",
      "source": [
        "train_y_1.value_counts()"
      ],
      "metadata": {
        "colab": {
          "base_uri": "https://localhost:8080/"
        },
        "id": "nBGystXQac-D",
        "outputId": "862b1c11-4b90-4772-fa8a-e86b3de22089"
      },
      "execution_count": 273,
      "outputs": [
        {
          "output_type": "execute_result",
          "data": {
            "text/plain": [
              "FIRST 14 LETTERS    32\n",
              "LAST 12 LETTERS     27\n",
              "Name: TIER_1_WHICH_HALF, dtype: int64"
            ]
          },
          "metadata": {},
          "execution_count": 273
        }
      ]
    },
    {
      "cell_type": "code",
      "source": [
        "model_1 = SVC()\n",
        "# model_1 = MultinomialNB()\n",
        "# model_1 = GaussianNB()\n",
        "# model_1 = DecisionTreeClassifier()\n",
        "# model_1 = LogisticRegression()\n",
        "model_1.fit(train_x_1,train_y_1)"
      ],
      "metadata": {
        "colab": {
          "base_uri": "https://localhost:8080/",
          "height": 75
        },
        "id": "n3-potllGuRH",
        "outputId": "24320e6b-b724-462a-fa91-06f15d273930"
      },
      "execution_count": 274,
      "outputs": [
        {
          "output_type": "execute_result",
          "data": {
            "text/plain": [
              "SVC()"
            ],
            "text/html": [
              "<style>#sk-container-id-27 {color: black;background-color: white;}#sk-container-id-27 pre{padding: 0;}#sk-container-id-27 div.sk-toggleable {background-color: white;}#sk-container-id-27 label.sk-toggleable__label {cursor: pointer;display: block;width: 100%;margin-bottom: 0;padding: 0.3em;box-sizing: border-box;text-align: center;}#sk-container-id-27 label.sk-toggleable__label-arrow:before {content: \"▸\";float: left;margin-right: 0.25em;color: #696969;}#sk-container-id-27 label.sk-toggleable__label-arrow:hover:before {color: black;}#sk-container-id-27 div.sk-estimator:hover label.sk-toggleable__label-arrow:before {color: black;}#sk-container-id-27 div.sk-toggleable__content {max-height: 0;max-width: 0;overflow: hidden;text-align: left;background-color: #f0f8ff;}#sk-container-id-27 div.sk-toggleable__content pre {margin: 0.2em;color: black;border-radius: 0.25em;background-color: #f0f8ff;}#sk-container-id-27 input.sk-toggleable__control:checked~div.sk-toggleable__content {max-height: 200px;max-width: 100%;overflow: auto;}#sk-container-id-27 input.sk-toggleable__control:checked~label.sk-toggleable__label-arrow:before {content: \"▾\";}#sk-container-id-27 div.sk-estimator input.sk-toggleable__control:checked~label.sk-toggleable__label {background-color: #d4ebff;}#sk-container-id-27 div.sk-label input.sk-toggleable__control:checked~label.sk-toggleable__label {background-color: #d4ebff;}#sk-container-id-27 input.sk-hidden--visually {border: 0;clip: rect(1px 1px 1px 1px);clip: rect(1px, 1px, 1px, 1px);height: 1px;margin: -1px;overflow: hidden;padding: 0;position: absolute;width: 1px;}#sk-container-id-27 div.sk-estimator {font-family: monospace;background-color: #f0f8ff;border: 1px dotted black;border-radius: 0.25em;box-sizing: border-box;margin-bottom: 0.5em;}#sk-container-id-27 div.sk-estimator:hover {background-color: #d4ebff;}#sk-container-id-27 div.sk-parallel-item::after {content: \"\";width: 100%;border-bottom: 1px solid gray;flex-grow: 1;}#sk-container-id-27 div.sk-label:hover label.sk-toggleable__label {background-color: #d4ebff;}#sk-container-id-27 div.sk-serial::before {content: \"\";position: absolute;border-left: 1px solid gray;box-sizing: border-box;top: 0;bottom: 0;left: 50%;z-index: 0;}#sk-container-id-27 div.sk-serial {display: flex;flex-direction: column;align-items: center;background-color: white;padding-right: 0.2em;padding-left: 0.2em;position: relative;}#sk-container-id-27 div.sk-item {position: relative;z-index: 1;}#sk-container-id-27 div.sk-parallel {display: flex;align-items: stretch;justify-content: center;background-color: white;position: relative;}#sk-container-id-27 div.sk-item::before, #sk-container-id-27 div.sk-parallel-item::before {content: \"\";position: absolute;border-left: 1px solid gray;box-sizing: border-box;top: 0;bottom: 0;left: 50%;z-index: -1;}#sk-container-id-27 div.sk-parallel-item {display: flex;flex-direction: column;z-index: 1;position: relative;background-color: white;}#sk-container-id-27 div.sk-parallel-item:first-child::after {align-self: flex-end;width: 50%;}#sk-container-id-27 div.sk-parallel-item:last-child::after {align-self: flex-start;width: 50%;}#sk-container-id-27 div.sk-parallel-item:only-child::after {width: 0;}#sk-container-id-27 div.sk-dashed-wrapped {border: 1px dashed gray;margin: 0 0.4em 0.5em 0.4em;box-sizing: border-box;padding-bottom: 0.4em;background-color: white;}#sk-container-id-27 div.sk-label label {font-family: monospace;font-weight: bold;display: inline-block;line-height: 1.2em;}#sk-container-id-27 div.sk-label-container {text-align: center;}#sk-container-id-27 div.sk-container {/* jupyter's `normalize.less` sets `[hidden] { display: none; }` but bootstrap.min.css set `[hidden] { display: none !important; }` so we also need the `!important` here to be able to override the default hidden behavior on the sphinx rendered scikit-learn.org. See: https://github.com/scikit-learn/scikit-learn/issues/21755 */display: inline-block !important;position: relative;}#sk-container-id-27 div.sk-text-repr-fallback {display: none;}</style><div id=\"sk-container-id-27\" class=\"sk-top-container\"><div class=\"sk-text-repr-fallback\"><pre>SVC()</pre><b>In a Jupyter environment, please rerun this cell to show the HTML representation or trust the notebook. <br />On GitHub, the HTML representation is unable to render, please try loading this page with nbviewer.org.</b></div><div class=\"sk-container\" hidden><div class=\"sk-item\"><div class=\"sk-estimator sk-toggleable\"><input class=\"sk-toggleable__control sk-hidden--visually\" id=\"sk-estimator-id-27\" type=\"checkbox\" checked><label for=\"sk-estimator-id-27\" class=\"sk-toggleable__label sk-toggleable__label-arrow\">SVC</label><div class=\"sk-toggleable__content\"><pre>SVC()</pre></div></div></div></div></div>"
            ]
          },
          "metadata": {},
          "execution_count": 274
        }
      ]
    },
    {
      "cell_type": "code",
      "source": [
        "pred_y_1 = model_1.predict(test_x_1)\n",
        "print(classification_report(test_y_1, pred_y_1))"
      ],
      "metadata": {
        "colab": {
          "base_uri": "https://localhost:8080/"
        },
        "id": "iaFySBdrGzpa",
        "outputId": "eb0f0898-de01-458d-b920-f7a84dfbf608"
      },
      "execution_count": 275,
      "outputs": [
        {
          "output_type": "stream",
          "name": "stdout",
          "text": [
            "                  precision    recall  f1-score   support\n",
            "\n",
            "FIRST 14 LETTERS       0.67      0.50      0.57         8\n",
            " LAST 12 LETTERS       0.60      0.75      0.67         8\n",
            "\n",
            "        accuracy                           0.62        16\n",
            "       macro avg       0.63      0.62      0.62        16\n",
            "    weighted avg       0.63      0.62      0.62        16\n",
            "\n"
          ]
        }
      ]
    },
    {
      "cell_type": "code",
      "source": [
        "test_y_1"
      ],
      "metadata": {
        "colab": {
          "base_uri": "https://localhost:8080/"
        },
        "id": "HWRx7pUkH_7l",
        "outputId": "4047d7bb-16ce-4c29-c8aa-10fcc8d77245"
      },
      "execution_count": 276,
      "outputs": [
        {
          "output_type": "execute_result",
          "data": {
            "text/plain": [
              "59    FIRST 14 LETTERS\n",
              "60    FIRST 14 LETTERS\n",
              "61    FIRST 14 LETTERS\n",
              "62    FIRST 14 LETTERS\n",
              "63    FIRST 14 LETTERS\n",
              "64    FIRST 14 LETTERS\n",
              "65    FIRST 14 LETTERS\n",
              "66    FIRST 14 LETTERS\n",
              "67     LAST 12 LETTERS\n",
              "68     LAST 12 LETTERS\n",
              "69     LAST 12 LETTERS\n",
              "70     LAST 12 LETTERS\n",
              "71     LAST 12 LETTERS\n",
              "72     LAST 12 LETTERS\n",
              "73     LAST 12 LETTERS\n",
              "74     LAST 12 LETTERS\n",
              "Name: TIER_1_WHICH_HALF, dtype: object"
            ]
          },
          "metadata": {},
          "execution_count": 276
        }
      ]
    },
    {
      "cell_type": "code",
      "source": [
        "pred_y_1"
      ],
      "metadata": {
        "colab": {
          "base_uri": "https://localhost:8080/"
        },
        "id": "fGxBTQ6qH9Zr",
        "outputId": "c1c2e339-89ec-4ec7-c2ad-87cf033cd9cd"
      },
      "execution_count": 277,
      "outputs": [
        {
          "output_type": "execute_result",
          "data": {
            "text/plain": [
              "array(['FIRST 14 LETTERS', 'LAST 12 LETTERS', 'LAST 12 LETTERS',\n",
              "       'LAST 12 LETTERS', 'LAST 12 LETTERS', 'FIRST 14 LETTERS',\n",
              "       'FIRST 14 LETTERS', 'FIRST 14 LETTERS', 'LAST 12 LETTERS',\n",
              "       'LAST 12 LETTERS', 'LAST 12 LETTERS', 'LAST 12 LETTERS',\n",
              "       'FIRST 14 LETTERS', 'LAST 12 LETTERS', 'FIRST 14 LETTERS',\n",
              "       'LAST 12 LETTERS'], dtype=object)"
            ]
          },
          "metadata": {},
          "execution_count": 277
        }
      ]
    },
    {
      "cell_type": "code",
      "source": [
        "df_test['TIER_1_WHICH_HALF_PRED'] = pred_y_1"
      ],
      "metadata": {
        "colab": {
          "base_uri": "https://localhost:8080/"
        },
        "id": "jogwZBT0N53S",
        "outputId": "8e0e4a5e-cac5-458f-a1a9-70be7196fb04"
      },
      "execution_count": 278,
      "outputs": [
        {
          "output_type": "stream",
          "name": "stderr",
          "text": [
            "<ipython-input-278-347bbb580985>:1: SettingWithCopyWarning: \n",
            "A value is trying to be set on a copy of a slice from a DataFrame.\n",
            "Try using .loc[row_indexer,col_indexer] = value instead\n",
            "\n",
            "See the caveats in the documentation: https://pandas.pydata.org/pandas-docs/stable/user_guide/indexing.html#returning-a-view-versus-a-copy\n",
            "  df_test['TIER_1_WHICH_HALF_PRED'] = pred_y_1\n"
          ]
        }
      ]
    },
    {
      "cell_type": "code",
      "source": [
        "#Predicting TIER_2_LETTER_RANGE given TIER_1_WHICH_HALF = FIRST 14 LETTERS"
      ],
      "metadata": {
        "id": "3orG0d-pLMhF"
      },
      "execution_count": 279,
      "outputs": []
    },
    {
      "cell_type": "code",
      "source": [
        "# taking train data having TIER_1_WHICH_HALF = FIRST 14 LETTERS\n",
        "train_x_2_a = df_train[df_train['TIER_1_WHICH_HALF'][train_x_1.index] == 'FIRST 14 LETTERS'].drop(columns=['text','TIER_1_WHICH_HALF','TIER_2_LETTER_RANGE','TIER_3_ACTUAL_LETTER'])\n",
        "# taking test data where TIER_1_WHICH_HALF was predicted as FIRST 14 LETTERS\n",
        "test_x_2_a = df_test[df_test['TIER_1_WHICH_HALF'][test_x_1.index] == 'FIRST 14 LETTERS'].drop(columns=['text','TIER_1_WHICH_HALF','TIER_2_LETTER_RANGE','TIER_3_ACTUAL_LETTER','TIER_1_WHICH_HALF_PRED'])\n",
        "\n",
        "train_y_2_a = df_train[df_train['TIER_1_WHICH_HALF'][train_x_1.index] == 'FIRST 14 LETTERS']['TIER_2_LETTER_RANGE']\n",
        "test_y_2_a = df_test[df_test['TIER_1_WHICH_HALF'][test_x_1.index] == 'FIRST 14 LETTERS']['TIER_2_LETTER_RANGE']"
      ],
      "metadata": {
        "id": "mzUZoOsBM7a9"
      },
      "execution_count": 280,
      "outputs": []
    },
    {
      "cell_type": "code",
      "source": [
        "train_y_2_a.value_counts()"
      ],
      "metadata": {
        "colab": {
          "base_uri": "https://localhost:8080/"
        },
        "id": "Pgp69YDWgPlR",
        "outputId": "52fac11a-60a4-441b-a7d7-2b97337e318a"
      },
      "execution_count": 281,
      "outputs": [
        {
          "output_type": "execute_result",
          "data": {
            "text/plain": [
              "BETWEEN A AND G    22\n",
              "BETWEEN H AND N    10\n",
              "Name: TIER_2_LETTER_RANGE, dtype: int64"
            ]
          },
          "metadata": {},
          "execution_count": 281
        }
      ]
    },
    {
      "cell_type": "code",
      "source": [
        "test_y_2_a.value_counts()"
      ],
      "metadata": {
        "colab": {
          "base_uri": "https://localhost:8080/"
        },
        "id": "IGpwtSjANTRD",
        "outputId": "03d60c7f-1405-4537-ae37-c81437617349"
      },
      "execution_count": 282,
      "outputs": [
        {
          "output_type": "execute_result",
          "data": {
            "text/plain": [
              "BETWEEN A AND G    5\n",
              "BETWEEN H AND N    3\n",
              "Name: TIER_2_LETTER_RANGE, dtype: int64"
            ]
          },
          "metadata": {},
          "execution_count": 282
        }
      ]
    },
    {
      "cell_type": "code",
      "source": [
        "#from imblearn.datasets import make_imbalance\n",
        "#train_x_2_a, train_y_2_a = make_imbalance(train_x_2_a, train_y_2_a, sampling_strategy={'BETWEEN A AND G': 10, 'BETWEEN H AND N': 10},random_state=14)\n"
      ],
      "metadata": {
        "id": "nurS5FHNicgl"
      },
      "execution_count": 283,
      "outputs": []
    },
    {
      "cell_type": "code",
      "source": [
        "model_first14 = SVC()\n",
        "# model_first14 = MultinomialNB()\n",
        "# model_first14 = GaussianNB()\n",
        "# model_first14 = DecisionTreeClassifier()\n",
        "# model_first14 = LogisticRegression()\n",
        "model_first14.fit(train_x_2_a,train_y_2_a)"
      ],
      "metadata": {
        "colab": {
          "base_uri": "https://localhost:8080/",
          "height": 75
        },
        "id": "4Ytjhi1aNNAI",
        "outputId": "10c0084a-0e5a-4926-80df-740e78b6129b"
      },
      "execution_count": 288,
      "outputs": [
        {
          "output_type": "execute_result",
          "data": {
            "text/plain": [
              "SVC()"
            ],
            "text/html": [
              "<style>#sk-container-id-29 {color: black;background-color: white;}#sk-container-id-29 pre{padding: 0;}#sk-container-id-29 div.sk-toggleable {background-color: white;}#sk-container-id-29 label.sk-toggleable__label {cursor: pointer;display: block;width: 100%;margin-bottom: 0;padding: 0.3em;box-sizing: border-box;text-align: center;}#sk-container-id-29 label.sk-toggleable__label-arrow:before {content: \"▸\";float: left;margin-right: 0.25em;color: #696969;}#sk-container-id-29 label.sk-toggleable__label-arrow:hover:before {color: black;}#sk-container-id-29 div.sk-estimator:hover label.sk-toggleable__label-arrow:before {color: black;}#sk-container-id-29 div.sk-toggleable__content {max-height: 0;max-width: 0;overflow: hidden;text-align: left;background-color: #f0f8ff;}#sk-container-id-29 div.sk-toggleable__content pre {margin: 0.2em;color: black;border-radius: 0.25em;background-color: #f0f8ff;}#sk-container-id-29 input.sk-toggleable__control:checked~div.sk-toggleable__content {max-height: 200px;max-width: 100%;overflow: auto;}#sk-container-id-29 input.sk-toggleable__control:checked~label.sk-toggleable__label-arrow:before {content: \"▾\";}#sk-container-id-29 div.sk-estimator input.sk-toggleable__control:checked~label.sk-toggleable__label {background-color: #d4ebff;}#sk-container-id-29 div.sk-label input.sk-toggleable__control:checked~label.sk-toggleable__label {background-color: #d4ebff;}#sk-container-id-29 input.sk-hidden--visually {border: 0;clip: rect(1px 1px 1px 1px);clip: rect(1px, 1px, 1px, 1px);height: 1px;margin: -1px;overflow: hidden;padding: 0;position: absolute;width: 1px;}#sk-container-id-29 div.sk-estimator {font-family: monospace;background-color: #f0f8ff;border: 1px dotted black;border-radius: 0.25em;box-sizing: border-box;margin-bottom: 0.5em;}#sk-container-id-29 div.sk-estimator:hover {background-color: #d4ebff;}#sk-container-id-29 div.sk-parallel-item::after {content: \"\";width: 100%;border-bottom: 1px solid gray;flex-grow: 1;}#sk-container-id-29 div.sk-label:hover label.sk-toggleable__label {background-color: #d4ebff;}#sk-container-id-29 div.sk-serial::before {content: \"\";position: absolute;border-left: 1px solid gray;box-sizing: border-box;top: 0;bottom: 0;left: 50%;z-index: 0;}#sk-container-id-29 div.sk-serial {display: flex;flex-direction: column;align-items: center;background-color: white;padding-right: 0.2em;padding-left: 0.2em;position: relative;}#sk-container-id-29 div.sk-item {position: relative;z-index: 1;}#sk-container-id-29 div.sk-parallel {display: flex;align-items: stretch;justify-content: center;background-color: white;position: relative;}#sk-container-id-29 div.sk-item::before, #sk-container-id-29 div.sk-parallel-item::before {content: \"\";position: absolute;border-left: 1px solid gray;box-sizing: border-box;top: 0;bottom: 0;left: 50%;z-index: -1;}#sk-container-id-29 div.sk-parallel-item {display: flex;flex-direction: column;z-index: 1;position: relative;background-color: white;}#sk-container-id-29 div.sk-parallel-item:first-child::after {align-self: flex-end;width: 50%;}#sk-container-id-29 div.sk-parallel-item:last-child::after {align-self: flex-start;width: 50%;}#sk-container-id-29 div.sk-parallel-item:only-child::after {width: 0;}#sk-container-id-29 div.sk-dashed-wrapped {border: 1px dashed gray;margin: 0 0.4em 0.5em 0.4em;box-sizing: border-box;padding-bottom: 0.4em;background-color: white;}#sk-container-id-29 div.sk-label label {font-family: monospace;font-weight: bold;display: inline-block;line-height: 1.2em;}#sk-container-id-29 div.sk-label-container {text-align: center;}#sk-container-id-29 div.sk-container {/* jupyter's `normalize.less` sets `[hidden] { display: none; }` but bootstrap.min.css set `[hidden] { display: none !important; }` so we also need the `!important` here to be able to override the default hidden behavior on the sphinx rendered scikit-learn.org. See: https://github.com/scikit-learn/scikit-learn/issues/21755 */display: inline-block !important;position: relative;}#sk-container-id-29 div.sk-text-repr-fallback {display: none;}</style><div id=\"sk-container-id-29\" class=\"sk-top-container\"><div class=\"sk-text-repr-fallback\"><pre>SVC()</pre><b>In a Jupyter environment, please rerun this cell to show the HTML representation or trust the notebook. <br />On GitHub, the HTML representation is unable to render, please try loading this page with nbviewer.org.</b></div><div class=\"sk-container\" hidden><div class=\"sk-item\"><div class=\"sk-estimator sk-toggleable\"><input class=\"sk-toggleable__control sk-hidden--visually\" id=\"sk-estimator-id-29\" type=\"checkbox\" checked><label for=\"sk-estimator-id-29\" class=\"sk-toggleable__label sk-toggleable__label-arrow\">SVC</label><div class=\"sk-toggleable__content\"><pre>SVC()</pre></div></div></div></div></div>"
            ]
          },
          "metadata": {},
          "execution_count": 288
        }
      ]
    },
    {
      "cell_type": "code",
      "source": [
        "pred_y_2_a = model_first14.predict(test_x_2_a)\n",
        "print(classification_report(test_y_2_a, pred_y_2_a))"
      ],
      "metadata": {
        "colab": {
          "base_uri": "https://localhost:8080/"
        },
        "id": "nMMGkgk2PEaH",
        "outputId": "b253d421-d802-47a2-e596-32aed10530f6"
      },
      "execution_count": 289,
      "outputs": [
        {
          "output_type": "stream",
          "name": "stdout",
          "text": [
            "                 precision    recall  f1-score   support\n",
            "\n",
            "BETWEEN A AND G       0.62      1.00      0.77         5\n",
            "BETWEEN H AND N       0.00      0.00      0.00         3\n",
            "\n",
            "       accuracy                           0.62         8\n",
            "      macro avg       0.31      0.50      0.38         8\n",
            "   weighted avg       0.39      0.62      0.48         8\n",
            "\n"
          ]
        },
        {
          "output_type": "stream",
          "name": "stderr",
          "text": [
            "/usr/local/lib/python3.10/dist-packages/sklearn/metrics/_classification.py:1344: UndefinedMetricWarning: Precision and F-score are ill-defined and being set to 0.0 in labels with no predicted samples. Use `zero_division` parameter to control this behavior.\n",
            "  _warn_prf(average, modifier, msg_start, len(result))\n",
            "/usr/local/lib/python3.10/dist-packages/sklearn/metrics/_classification.py:1344: UndefinedMetricWarning: Precision and F-score are ill-defined and being set to 0.0 in labels with no predicted samples. Use `zero_division` parameter to control this behavior.\n",
            "  _warn_prf(average, modifier, msg_start, len(result))\n",
            "/usr/local/lib/python3.10/dist-packages/sklearn/metrics/_classification.py:1344: UndefinedMetricWarning: Precision and F-score are ill-defined and being set to 0.0 in labels with no predicted samples. Use `zero_division` parameter to control this behavior.\n",
            "  _warn_prf(average, modifier, msg_start, len(result))\n"
          ]
        }
      ]
    },
    {
      "cell_type": "code",
      "source": [
        "pred_y_2_a"
      ],
      "metadata": {
        "colab": {
          "base_uri": "https://localhost:8080/"
        },
        "id": "9MFveJavQgvo",
        "outputId": "f163afd1-c44e-490c-d868-a2248ee22bd9"
      },
      "execution_count": 290,
      "outputs": [
        {
          "output_type": "execute_result",
          "data": {
            "text/plain": [
              "array(['BETWEEN A AND G', 'BETWEEN A AND G', 'BETWEEN A AND G',\n",
              "       'BETWEEN A AND G', 'BETWEEN A AND G', 'BETWEEN A AND G',\n",
              "       'BETWEEN A AND G', 'BETWEEN A AND G'], dtype=object)"
            ]
          },
          "metadata": {},
          "execution_count": 290
        }
      ]
    },
    {
      "cell_type": "code",
      "source": [
        "#Predicting TIER_2_LETTER_RANGE given TIER_1_WHICH_HALF = LAST 12 LETTERS"
      ],
      "metadata": {
        "id": "zZHxsmnXd0ff"
      },
      "execution_count": 291,
      "outputs": []
    },
    {
      "cell_type": "code",
      "source": [
        "# taking train data having TIER_1_WHICH_HALF = LAST 12 LETTERS\n",
        "train_x_2_b = df_train[df_train['TIER_1_WHICH_HALF'][train_x_1.index] == 'LAST 12 LETTERS'].drop(columns=['text','TIER_1_WHICH_HALF','TIER_2_LETTER_RANGE','TIER_3_ACTUAL_LETTER'])\n",
        "# taking test data where TIER_1_WHICH_HALF was predicted as LAST 12 LETTERS\n",
        "test_x_2_b = df_test[df_test['TIER_1_WHICH_HALF'][test_x_1.index] == 'LAST 12 LETTERS'].drop(columns=['text','TIER_1_WHICH_HALF','TIER_2_LETTER_RANGE','TIER_3_ACTUAL_LETTER','TIER_1_WHICH_HALF_PRED'])\n",
        "\n",
        "# taking train Y having TIER_1_WHICH_HALF = LAST 12 LETTERS\n",
        "train_y_2_b = df_train[df_train['TIER_1_WHICH_HALF'][train_x_1.index] == 'LAST 12 LETTERS']['TIER_2_LETTER_RANGE']\n",
        "# taking test Y where TIER_1_WHICH_HALF was predicted as LAST 12 LETTERS\n",
        "test_y_2_b = df_test[df_test['TIER_1_WHICH_HALF'][test_x_1.index] == 'LAST 12 LETTERS']['TIER_2_LETTER_RANGE']"
      ],
      "metadata": {
        "id": "2c7WfE8gQgsF"
      },
      "execution_count": 292,
      "outputs": []
    },
    {
      "cell_type": "code",
      "source": [
        "# model_last12 = SVC()\n",
        "model_last12 = MultinomialNB()\n",
        "# model_last12 = GaussianNB()\n",
        "# model_last12 = DecisionTreeClassifier()\n",
        "# model_last12 = LogisticRegression()\n",
        "model_last12.fit(train_x_2_b,train_y_2_b)"
      ],
      "metadata": {
        "colab": {
          "base_uri": "https://localhost:8080/",
          "height": 75
        },
        "id": "PbrIwhp-Qgo_",
        "outputId": "3f40c385-b034-4d24-ab7f-f752329a20ae"
      },
      "execution_count": 293,
      "outputs": [
        {
          "output_type": "execute_result",
          "data": {
            "text/plain": [
              "MultinomialNB()"
            ],
            "text/html": [
              "<style>#sk-container-id-30 {color: black;background-color: white;}#sk-container-id-30 pre{padding: 0;}#sk-container-id-30 div.sk-toggleable {background-color: white;}#sk-container-id-30 label.sk-toggleable__label {cursor: pointer;display: block;width: 100%;margin-bottom: 0;padding: 0.3em;box-sizing: border-box;text-align: center;}#sk-container-id-30 label.sk-toggleable__label-arrow:before {content: \"▸\";float: left;margin-right: 0.25em;color: #696969;}#sk-container-id-30 label.sk-toggleable__label-arrow:hover:before {color: black;}#sk-container-id-30 div.sk-estimator:hover label.sk-toggleable__label-arrow:before {color: black;}#sk-container-id-30 div.sk-toggleable__content {max-height: 0;max-width: 0;overflow: hidden;text-align: left;background-color: #f0f8ff;}#sk-container-id-30 div.sk-toggleable__content pre {margin: 0.2em;color: black;border-radius: 0.25em;background-color: #f0f8ff;}#sk-container-id-30 input.sk-toggleable__control:checked~div.sk-toggleable__content {max-height: 200px;max-width: 100%;overflow: auto;}#sk-container-id-30 input.sk-toggleable__control:checked~label.sk-toggleable__label-arrow:before {content: \"▾\";}#sk-container-id-30 div.sk-estimator input.sk-toggleable__control:checked~label.sk-toggleable__label {background-color: #d4ebff;}#sk-container-id-30 div.sk-label input.sk-toggleable__control:checked~label.sk-toggleable__label {background-color: #d4ebff;}#sk-container-id-30 input.sk-hidden--visually {border: 0;clip: rect(1px 1px 1px 1px);clip: rect(1px, 1px, 1px, 1px);height: 1px;margin: -1px;overflow: hidden;padding: 0;position: absolute;width: 1px;}#sk-container-id-30 div.sk-estimator {font-family: monospace;background-color: #f0f8ff;border: 1px dotted black;border-radius: 0.25em;box-sizing: border-box;margin-bottom: 0.5em;}#sk-container-id-30 div.sk-estimator:hover {background-color: #d4ebff;}#sk-container-id-30 div.sk-parallel-item::after {content: \"\";width: 100%;border-bottom: 1px solid gray;flex-grow: 1;}#sk-container-id-30 div.sk-label:hover label.sk-toggleable__label {background-color: #d4ebff;}#sk-container-id-30 div.sk-serial::before {content: \"\";position: absolute;border-left: 1px solid gray;box-sizing: border-box;top: 0;bottom: 0;left: 50%;z-index: 0;}#sk-container-id-30 div.sk-serial {display: flex;flex-direction: column;align-items: center;background-color: white;padding-right: 0.2em;padding-left: 0.2em;position: relative;}#sk-container-id-30 div.sk-item {position: relative;z-index: 1;}#sk-container-id-30 div.sk-parallel {display: flex;align-items: stretch;justify-content: center;background-color: white;position: relative;}#sk-container-id-30 div.sk-item::before, #sk-container-id-30 div.sk-parallel-item::before {content: \"\";position: absolute;border-left: 1px solid gray;box-sizing: border-box;top: 0;bottom: 0;left: 50%;z-index: -1;}#sk-container-id-30 div.sk-parallel-item {display: flex;flex-direction: column;z-index: 1;position: relative;background-color: white;}#sk-container-id-30 div.sk-parallel-item:first-child::after {align-self: flex-end;width: 50%;}#sk-container-id-30 div.sk-parallel-item:last-child::after {align-self: flex-start;width: 50%;}#sk-container-id-30 div.sk-parallel-item:only-child::after {width: 0;}#sk-container-id-30 div.sk-dashed-wrapped {border: 1px dashed gray;margin: 0 0.4em 0.5em 0.4em;box-sizing: border-box;padding-bottom: 0.4em;background-color: white;}#sk-container-id-30 div.sk-label label {font-family: monospace;font-weight: bold;display: inline-block;line-height: 1.2em;}#sk-container-id-30 div.sk-label-container {text-align: center;}#sk-container-id-30 div.sk-container {/* jupyter's `normalize.less` sets `[hidden] { display: none; }` but bootstrap.min.css set `[hidden] { display: none !important; }` so we also need the `!important` here to be able to override the default hidden behavior on the sphinx rendered scikit-learn.org. See: https://github.com/scikit-learn/scikit-learn/issues/21755 */display: inline-block !important;position: relative;}#sk-container-id-30 div.sk-text-repr-fallback {display: none;}</style><div id=\"sk-container-id-30\" class=\"sk-top-container\"><div class=\"sk-text-repr-fallback\"><pre>MultinomialNB()</pre><b>In a Jupyter environment, please rerun this cell to show the HTML representation or trust the notebook. <br />On GitHub, the HTML representation is unable to render, please try loading this page with nbviewer.org.</b></div><div class=\"sk-container\" hidden><div class=\"sk-item\"><div class=\"sk-estimator sk-toggleable\"><input class=\"sk-toggleable__control sk-hidden--visually\" id=\"sk-estimator-id-30\" type=\"checkbox\" checked><label for=\"sk-estimator-id-30\" class=\"sk-toggleable__label sk-toggleable__label-arrow\">MultinomialNB</label><div class=\"sk-toggleable__content\"><pre>MultinomialNB()</pre></div></div></div></div></div>"
            ]
          },
          "metadata": {},
          "execution_count": 293
        }
      ]
    },
    {
      "cell_type": "code",
      "source": [
        "pred_y_2_b = model_last12.predict(test_x_2_b)\n",
        "print(classification_report(test_y_2_b, pred_y_2_b))"
      ],
      "metadata": {
        "colab": {
          "base_uri": "https://localhost:8080/"
        },
        "id": "41ga3cPGQ84S",
        "outputId": "f391db57-3bc4-4fcc-f943-6c5095febe6e"
      },
      "execution_count": 294,
      "outputs": [
        {
          "output_type": "stream",
          "name": "stdout",
          "text": [
            "                 precision    recall  f1-score   support\n",
            "\n",
            "BETWEEN O AND S       0.00      0.00      0.00         3\n",
            "BETWEEN T AND Z       0.57      0.80      0.67         5\n",
            "\n",
            "       accuracy                           0.50         8\n",
            "      macro avg       0.29      0.40      0.33         8\n",
            "   weighted avg       0.36      0.50      0.42         8\n",
            "\n"
          ]
        }
      ]
    },
    {
      "cell_type": "code",
      "source": [
        "pred_y_2_b"
      ],
      "metadata": {
        "colab": {
          "base_uri": "https://localhost:8080/"
        },
        "id": "IuaMKjdAbjh5",
        "outputId": "eba51a09-ca2b-48fe-cd82-62abe3fccc09"
      },
      "execution_count": 295,
      "outputs": [
        {
          "output_type": "execute_result",
          "data": {
            "text/plain": [
              "array(['BETWEEN T AND Z', 'BETWEEN T AND Z', 'BETWEEN T AND Z',\n",
              "       'BETWEEN O AND S', 'BETWEEN T AND Z', 'BETWEEN T AND Z',\n",
              "       'BETWEEN T AND Z', 'BETWEEN T AND Z'], dtype='<U15')"
            ]
          },
          "metadata": {},
          "execution_count": 295
        }
      ]
    },
    {
      "cell_type": "code",
      "source": [
        "#Predicting TIER_3_ACTUAL_LETTER given TIER_1_WHICH_HALF = FIRST 14 LETTERS ; TIER_2_LETTER_RANGE = BETWEEN A AND G"
      ],
      "metadata": {
        "id": "kCYwf2Vrd8Rq"
      },
      "execution_count": 296,
      "outputs": []
    },
    {
      "cell_type": "code",
      "source": [
        "# taking train data having TIER_2_LETTER_RANGE = BETWEEN A AND G\n",
        "train_x_3_a = df_train[df_train['TIER_2_LETTER_RANGE'][train_x_1.index] == 'BETWEEN A AND G'].drop(columns=['text','TIER_1_WHICH_HALF','TIER_2_LETTER_RANGE','TIER_3_ACTUAL_LETTER'])\n",
        "# taking test data where TIER_1_WHICH_HALF was predicted as FIRST 14 LETTERS\n",
        "test_x_3_a = df_test[df_test['TIER_2_LETTER_RANGE'][test_x_1.index] == 'BETWEEN A AND G'].drop(columns=['text','TIER_1_WHICH_HALF','TIER_2_LETTER_RANGE','TIER_3_ACTUAL_LETTER','TIER_1_WHICH_HALF_PRED'])\n",
        "\n",
        "train_y_3_a = df_train[df_train['TIER_2_LETTER_RANGE'][train_x_1.index] == 'BETWEEN A AND G']['TIER_3_ACTUAL_LETTER']\n",
        "test_y_3_a = df_test[df_test['TIER_2_LETTER_RANGE'][test_x_1.index] == 'BETWEEN A AND G']['TIER_3_ACTUAL_LETTER']\n"
      ],
      "metadata": {
        "id": "TBInNAKFR-bI"
      },
      "execution_count": 297,
      "outputs": []
    },
    {
      "cell_type": "code",
      "source": [
        "# model_3_AtoG = SVC()\n",
        "model_3_AtoG = MultinomialNB()\n",
        "# model_3_AtoG = GaussianNB()\n",
        "# model_3_AtoG = DecisionTreeClassifier()\n",
        "# model_3_AtoG = LogisticRegression()\n",
        "model_3_AtoG.fit(train_x_3_a,train_y_3_a)\n",
        "pred_y_3_a = model_3_AtoG.predict(test_x_3_a)\n",
        "print(classification_report(test_y_3_a, pred_y_3_a))"
      ],
      "metadata": {
        "colab": {
          "base_uri": "https://localhost:8080/"
        },
        "id": "wkQqWqKMbzM-",
        "outputId": "3be51fc9-7bbf-412e-f0ee-850f3e2c9ebe"
      },
      "execution_count": 302,
      "outputs": [
        {
          "output_type": "stream",
          "name": "stdout",
          "text": [
            "              precision    recall  f1-score   support\n",
            "\n",
            "           a       0.00      0.00      0.00         1\n",
            "           b       1.00      1.00      1.00         1\n",
            "           c       0.00      0.00      0.00         1\n",
            "           d       0.00      0.00      0.00         0\n",
            "           e       0.00      0.00      0.00         1\n",
            "           f       0.00      0.00      0.00         1\n",
            "\n",
            "    accuracy                           0.20         5\n",
            "   macro avg       0.17      0.17      0.17         5\n",
            "weighted avg       0.20      0.20      0.20         5\n",
            "\n"
          ]
        },
        {
          "output_type": "stream",
          "name": "stderr",
          "text": [
            "/usr/local/lib/python3.10/dist-packages/sklearn/metrics/_classification.py:1344: UndefinedMetricWarning: Precision and F-score are ill-defined and being set to 0.0 in labels with no predicted samples. Use `zero_division` parameter to control this behavior.\n",
            "  _warn_prf(average, modifier, msg_start, len(result))\n",
            "/usr/local/lib/python3.10/dist-packages/sklearn/metrics/_classification.py:1344: UndefinedMetricWarning: Recall and F-score are ill-defined and being set to 0.0 in labels with no true samples. Use `zero_division` parameter to control this behavior.\n",
            "  _warn_prf(average, modifier, msg_start, len(result))\n",
            "/usr/local/lib/python3.10/dist-packages/sklearn/metrics/_classification.py:1344: UndefinedMetricWarning: Precision and F-score are ill-defined and being set to 0.0 in labels with no predicted samples. Use `zero_division` parameter to control this behavior.\n",
            "  _warn_prf(average, modifier, msg_start, len(result))\n",
            "/usr/local/lib/python3.10/dist-packages/sklearn/metrics/_classification.py:1344: UndefinedMetricWarning: Recall and F-score are ill-defined and being set to 0.0 in labels with no true samples. Use `zero_division` parameter to control this behavior.\n",
            "  _warn_prf(average, modifier, msg_start, len(result))\n",
            "/usr/local/lib/python3.10/dist-packages/sklearn/metrics/_classification.py:1344: UndefinedMetricWarning: Precision and F-score are ill-defined and being set to 0.0 in labels with no predicted samples. Use `zero_division` parameter to control this behavior.\n",
            "  _warn_prf(average, modifier, msg_start, len(result))\n",
            "/usr/local/lib/python3.10/dist-packages/sklearn/metrics/_classification.py:1344: UndefinedMetricWarning: Recall and F-score are ill-defined and being set to 0.0 in labels with no true samples. Use `zero_division` parameter to control this behavior.\n",
            "  _warn_prf(average, modifier, msg_start, len(result))\n"
          ]
        }
      ]
    },
    {
      "cell_type": "code",
      "source": [
        "test_y_3_a"
      ],
      "metadata": {
        "colab": {
          "base_uri": "https://localhost:8080/"
        },
        "id": "F_KjPRxQagbV",
        "outputId": "9581b123-48a0-47a6-9a69-4ef3a93ec8c1"
      },
      "execution_count": 303,
      "outputs": [
        {
          "output_type": "execute_result",
          "data": {
            "text/plain": [
              "59    a\n",
              "60    b\n",
              "61    c\n",
              "63    e\n",
              "64    f\n",
              "Name: TIER_3_ACTUAL_LETTER, dtype: object"
            ]
          },
          "metadata": {},
          "execution_count": 303
        }
      ]
    },
    {
      "cell_type": "code",
      "source": [
        "pred_y_3_a"
      ],
      "metadata": {
        "colab": {
          "base_uri": "https://localhost:8080/"
        },
        "id": "18Uj5y16agZH",
        "outputId": "09d29bc5-4b4e-4dc1-ce3f-1886397229b3"
      },
      "execution_count": 304,
      "outputs": [
        {
          "output_type": "execute_result",
          "data": {
            "text/plain": [
              "array(['d', 'b', 'd', 'd', 'd'], dtype='<U1')"
            ]
          },
          "metadata": {},
          "execution_count": 304
        }
      ]
    },
    {
      "cell_type": "code",
      "source": [
        "#Predicting TIER_3_ACTUAL_LETTER given TIER_1_WHICH_HALF = FIRST 14 LETTERS ; TIER_2_LETTER_RANGE = BETWEEN H AND N"
      ],
      "metadata": {
        "id": "mahDpYMTagV7"
      },
      "execution_count": 305,
      "outputs": []
    },
    {
      "cell_type": "code",
      "source": [
        "# taking train data having TIER_2_LETTER_RANGE = BETWEEN A AND G\n",
        "train_x_3_b = df_train[df_train['TIER_2_LETTER_RANGE'][train_x_1.index] == 'BETWEEN H AND N'].drop(columns=['text','TIER_1_WHICH_HALF','TIER_2_LETTER_RANGE','TIER_3_ACTUAL_LETTER'])\n",
        "# taking test data where TIER_1_WHICH_HALF was predicted as FIRST 14 LETTERS\n",
        "test_x_3_b = df_test[df_test['TIER_2_LETTER_RANGE'][test_x_1.index] == 'BETWEEN H AND N'].drop(columns=['text','TIER_1_WHICH_HALF','TIER_2_LETTER_RANGE','TIER_3_ACTUAL_LETTER','TIER_1_WHICH_HALF_PRED'])\n",
        "\n",
        "train_y_3_b = df_train[df_train['TIER_2_LETTER_RANGE'][train_x_1.index] == 'BETWEEN H AND N']['TIER_3_ACTUAL_LETTER']\n",
        "test_y_3_b = df_test[df_test['TIER_2_LETTER_RANGE'][test_x_1.index] == 'BETWEEN H AND N']['TIER_3_ACTUAL_LETTER']\n"
      ],
      "metadata": {
        "id": "ehsH1x8jo0Bi"
      },
      "execution_count": 306,
      "outputs": []
    },
    {
      "cell_type": "code",
      "source": [
        "# model_3_HtoN = SVC()\n",
        "# model_3_HtoN = MultinomialNB()\n",
        "# model_3_HtoN = GaussianNB()\n",
        "model_3_HtoN = DecisionTreeClassifier()\n",
        "# model_3_HtoN = LogisticRegression()\n",
        "model_3_HtoN.fit(train_x_3_b,train_y_3_b)\n",
        "pred_y_3_b = model_3_HtoN.predict(test_x_3_b)\n",
        "print(classification_report(test_y_3_b, pred_y_3_b))"
      ],
      "metadata": {
        "colab": {
          "base_uri": "https://localhost:8080/"
        },
        "id": "DX-tvHN1ozq8",
        "outputId": "86697f6f-5011-4061-d21d-96e318007230"
      },
      "execution_count": 312,
      "outputs": [
        {
          "output_type": "stream",
          "name": "stdout",
          "text": [
            "              precision    recall  f1-score   support\n",
            "\n",
            "           i       1.00      1.00      1.00         1\n",
            "           j       0.00      0.00      0.00         0\n",
            "           l       0.00      0.00      0.00         1\n",
            "           m       0.00      0.00      0.00         1\n",
            "\n",
            "    accuracy                           0.33         3\n",
            "   macro avg       0.25      0.25      0.25         3\n",
            "weighted avg       0.33      0.33      0.33         3\n",
            "\n"
          ]
        },
        {
          "output_type": "stream",
          "name": "stderr",
          "text": [
            "/usr/local/lib/python3.10/dist-packages/sklearn/metrics/_classification.py:1344: UndefinedMetricWarning: Precision and F-score are ill-defined and being set to 0.0 in labels with no predicted samples. Use `zero_division` parameter to control this behavior.\n",
            "  _warn_prf(average, modifier, msg_start, len(result))\n",
            "/usr/local/lib/python3.10/dist-packages/sklearn/metrics/_classification.py:1344: UndefinedMetricWarning: Recall and F-score are ill-defined and being set to 0.0 in labels with no true samples. Use `zero_division` parameter to control this behavior.\n",
            "  _warn_prf(average, modifier, msg_start, len(result))\n",
            "/usr/local/lib/python3.10/dist-packages/sklearn/metrics/_classification.py:1344: UndefinedMetricWarning: Precision and F-score are ill-defined and being set to 0.0 in labels with no predicted samples. Use `zero_division` parameter to control this behavior.\n",
            "  _warn_prf(average, modifier, msg_start, len(result))\n",
            "/usr/local/lib/python3.10/dist-packages/sklearn/metrics/_classification.py:1344: UndefinedMetricWarning: Recall and F-score are ill-defined and being set to 0.0 in labels with no true samples. Use `zero_division` parameter to control this behavior.\n",
            "  _warn_prf(average, modifier, msg_start, len(result))\n",
            "/usr/local/lib/python3.10/dist-packages/sklearn/metrics/_classification.py:1344: UndefinedMetricWarning: Precision and F-score are ill-defined and being set to 0.0 in labels with no predicted samples. Use `zero_division` parameter to control this behavior.\n",
            "  _warn_prf(average, modifier, msg_start, len(result))\n",
            "/usr/local/lib/python3.10/dist-packages/sklearn/metrics/_classification.py:1344: UndefinedMetricWarning: Recall and F-score are ill-defined and being set to 0.0 in labels with no true samples. Use `zero_division` parameter to control this behavior.\n",
            "  _warn_prf(average, modifier, msg_start, len(result))\n"
          ]
        }
      ]
    },
    {
      "cell_type": "code",
      "source": [],
      "metadata": {
        "id": "0laph8HqoziA"
      },
      "execution_count": null,
      "outputs": []
    },
    {
      "cell_type": "code",
      "source": [
        "#Predicting TIER_3_ACTUAL_LETTER given TIER_1_WHICH_HALF = LAST 12 LETTERS ; TIER_2_LETTER_RANGE = BETWEEN O AND S"
      ],
      "metadata": {
        "id": "4aCIWUTBqoqa"
      },
      "execution_count": null,
      "outputs": []
    },
    {
      "cell_type": "code",
      "source": [
        "# taking train data having TIER_2_LETTER_RANGE = BETWEEN A AND G\n",
        "train_x_3_c = df_train[df_train['TIER_2_LETTER_RANGE'][train_x_1.index] == 'BETWEEN O AND S'].drop(columns=['text','TIER_1_WHICH_HALF','TIER_2_LETTER_RANGE','TIER_3_ACTUAL_LETTER'])\n",
        "# taking test data where TIER_1_WHICH_HALF was predicted as FIRST 14 LETTERS\n",
        "test_x_3_c = df_test[df_test['TIER_2_LETTER_RANGE'][test_x_1.index] == 'BETWEEN O AND S'].drop(columns=['text','TIER_1_WHICH_HALF','TIER_2_LETTER_RANGE','TIER_3_ACTUAL_LETTER','TIER_1_WHICH_HALF_PRED'])\n",
        "\n",
        "train_y_3_c = df_train[df_train['TIER_2_LETTER_RANGE'][train_x_1.index] == 'BETWEEN O AND S']['TIER_3_ACTUAL_LETTER']\n",
        "test_y_3_c = df_test[df_test['TIER_2_LETTER_RANGE'][test_x_1.index] == 'BETWEEN O AND S']['TIER_3_ACTUAL_LETTER']\n"
      ],
      "metadata": {
        "id": "QtodVDKuqoqk"
      },
      "execution_count": 313,
      "outputs": []
    },
    {
      "cell_type": "code",
      "source": [
        "# model_3_OtoS = SVC()\n",
        "model_3_OtoS = MultinomialNB()\n",
        "# model_3_OtoS = GaussianNB()\n",
        "# model_3_OtoS = DecisionTreeClassifier()\n",
        "# model_3_OtoS = LogisticRegression()\n",
        "model_3_OtoS.fit(train_x_3_c,train_y_3_c)\n",
        "pred_y_3_c = model_3_OtoS.predict(test_x_3_c)\n",
        "print(classification_report(test_y_3_c, pred_y_3_c))"
      ],
      "metadata": {
        "colab": {
          "base_uri": "https://localhost:8080/"
        },
        "outputId": "0a668794-2a4b-41a9-d0ff-18fa8e862507",
        "id": "fF41dfJFqoql"
      },
      "execution_count": 315,
      "outputs": [
        {
          "output_type": "stream",
          "name": "stdout",
          "text": [
            "              precision    recall  f1-score   support\n",
            "\n",
            "           o       0.50      1.00      0.67         1\n",
            "           r       1.00      1.00      1.00         1\n",
            "           s       0.00      0.00      0.00         1\n",
            "\n",
            "    accuracy                           0.67         3\n",
            "   macro avg       0.50      0.67      0.56         3\n",
            "weighted avg       0.50      0.67      0.56         3\n",
            "\n"
          ]
        },
        {
          "output_type": "stream",
          "name": "stderr",
          "text": [
            "/usr/local/lib/python3.10/dist-packages/sklearn/metrics/_classification.py:1344: UndefinedMetricWarning: Precision and F-score are ill-defined and being set to 0.0 in labels with no predicted samples. Use `zero_division` parameter to control this behavior.\n",
            "  _warn_prf(average, modifier, msg_start, len(result))\n",
            "/usr/local/lib/python3.10/dist-packages/sklearn/metrics/_classification.py:1344: UndefinedMetricWarning: Precision and F-score are ill-defined and being set to 0.0 in labels with no predicted samples. Use `zero_division` parameter to control this behavior.\n",
            "  _warn_prf(average, modifier, msg_start, len(result))\n",
            "/usr/local/lib/python3.10/dist-packages/sklearn/metrics/_classification.py:1344: UndefinedMetricWarning: Precision and F-score are ill-defined and being set to 0.0 in labels with no predicted samples. Use `zero_division` parameter to control this behavior.\n",
            "  _warn_prf(average, modifier, msg_start, len(result))\n"
          ]
        }
      ]
    },
    {
      "cell_type": "code",
      "source": [],
      "metadata": {
        "id": "HIW3WPwsozYy"
      },
      "execution_count": null,
      "outputs": []
    },
    {
      "cell_type": "code",
      "source": [
        "#Predicting TIER_3_ACTUAL_LETTER given TIER_1_WHICH_HALF = LAST 12 LETTERS ; TIER_2_LETTER_RANGE = BETWEEN T AND Z"
      ],
      "metadata": {
        "id": "7db308-ErfBz"
      },
      "execution_count": null,
      "outputs": []
    },
    {
      "cell_type": "code",
      "source": [
        "# taking train data having TIER_2_LETTER_RANGE = BETWEEN T AND Z\n",
        "train_x_3_d = df_train[df_train['TIER_2_LETTER_RANGE'][train_x_1.index] == 'BETWEEN T AND Z'].drop(columns=['text','TIER_1_WHICH_HALF','TIER_2_LETTER_RANGE','TIER_3_ACTUAL_LETTER'])\n",
        "# taking test data where TIER_1_WHICH_HALF was predicted as LAST 12 LETTERS\n",
        "test_x_3_d = df_test[df_test['TIER_2_LETTER_RANGE'][test_x_1.index] == 'BETWEEN T AND Z'].drop(columns=['text','TIER_1_WHICH_HALF','TIER_2_LETTER_RANGE','TIER_3_ACTUAL_LETTER','TIER_1_WHICH_HALF_PRED'])\n",
        "\n",
        "train_y_3_d = df_train[df_train['TIER_2_LETTER_RANGE'][train_x_1.index] == 'BETWEEN T AND Z']['TIER_3_ACTUAL_LETTER']\n",
        "test_y_3_d = df_test[df_test['TIER_2_LETTER_RANGE'][test_x_1.index] == 'BETWEEN T AND Z']['TIER_3_ACTUAL_LETTER']\n"
      ],
      "metadata": {
        "id": "HcDZCxwarfB0"
      },
      "execution_count": 316,
      "outputs": []
    },
    {
      "cell_type": "code",
      "source": [
        "# model_3_TtoZ = SVC()\n",
        "model_3_TtoZ = MultinomialNB()\n",
        "# model_3_TtoZ = GaussianNB()\n",
        "# model_3_TtoZ = DecisionTreeClassifier()\n",
        "# model_3_TtoZ = LogisticRegression()\n",
        "model_3_TtoZ.fit(train_x_3_d,train_y_3_d)\n",
        "pred_y_3_d = model_3_TtoZ.predict(test_x_3_d)\n",
        "print(classification_report(test_y_3_d, pred_y_3_d))"
      ],
      "metadata": {
        "colab": {
          "base_uri": "https://localhost:8080/"
        },
        "outputId": "fe8c3642-4b39-44b0-88ae-776931d2346b",
        "id": "251VK6iXrfB0"
      },
      "execution_count": 317,
      "outputs": [
        {
          "output_type": "stream",
          "name": "stdout",
          "text": [
            "              precision    recall  f1-score   support\n",
            "\n",
            "           v       1.00      0.50      0.67         2\n",
            "           w       0.00      0.00      0.00         0\n",
            "           x       0.00      0.00      0.00         1\n",
            "           z       0.67      1.00      0.80         2\n",
            "\n",
            "    accuracy                           0.60         5\n",
            "   macro avg       0.42      0.38      0.37         5\n",
            "weighted avg       0.67      0.60      0.59         5\n",
            "\n"
          ]
        },
        {
          "output_type": "stream",
          "name": "stderr",
          "text": [
            "/usr/local/lib/python3.10/dist-packages/sklearn/metrics/_classification.py:1344: UndefinedMetricWarning: Precision and F-score are ill-defined and being set to 0.0 in labels with no predicted samples. Use `zero_division` parameter to control this behavior.\n",
            "  _warn_prf(average, modifier, msg_start, len(result))\n",
            "/usr/local/lib/python3.10/dist-packages/sklearn/metrics/_classification.py:1344: UndefinedMetricWarning: Recall and F-score are ill-defined and being set to 0.0 in labels with no true samples. Use `zero_division` parameter to control this behavior.\n",
            "  _warn_prf(average, modifier, msg_start, len(result))\n",
            "/usr/local/lib/python3.10/dist-packages/sklearn/metrics/_classification.py:1344: UndefinedMetricWarning: Precision and F-score are ill-defined and being set to 0.0 in labels with no predicted samples. Use `zero_division` parameter to control this behavior.\n",
            "  _warn_prf(average, modifier, msg_start, len(result))\n",
            "/usr/local/lib/python3.10/dist-packages/sklearn/metrics/_classification.py:1344: UndefinedMetricWarning: Recall and F-score are ill-defined and being set to 0.0 in labels with no true samples. Use `zero_division` parameter to control this behavior.\n",
            "  _warn_prf(average, modifier, msg_start, len(result))\n",
            "/usr/local/lib/python3.10/dist-packages/sklearn/metrics/_classification.py:1344: UndefinedMetricWarning: Precision and F-score are ill-defined and being set to 0.0 in labels with no predicted samples. Use `zero_division` parameter to control this behavior.\n",
            "  _warn_prf(average, modifier, msg_start, len(result))\n",
            "/usr/local/lib/python3.10/dist-packages/sklearn/metrics/_classification.py:1344: UndefinedMetricWarning: Recall and F-score are ill-defined and being set to 0.0 in labels with no true samples. Use `zero_division` parameter to control this behavior.\n",
            "  _warn_prf(average, modifier, msg_start, len(result))\n"
          ]
        }
      ]
    },
    {
      "cell_type": "code",
      "source": [],
      "metadata": {
        "id": "My3d8cq8aFE4"
      },
      "execution_count": null,
      "outputs": []
    },
    {
      "cell_type": "code",
      "source": [],
      "metadata": {
        "id": "WWug02LKaE_I"
      },
      "execution_count": null,
      "outputs": []
    },
    {
      "cell_type": "code",
      "source": [],
      "metadata": {
        "id": "feyhXlclaE5e"
      },
      "execution_count": null,
      "outputs": []
    },
    {
      "cell_type": "code",
      "source": [
        "import pandas as pd\n",
        "import numpy as np\n",
        "import nltk\n",
        "import re\n",
        "from nltk.stem import WordNetLemmatizer\n",
        "from sklearn.feature_extraction.text import TfidfVectorizer\n",
        "from sklearn.preprocessing import LabelEncoder\n",
        "from sklearn.tree import DecisionTreeClassifier\n",
        "from collections import Counter\n",
        "from nltk.corpus import stopwords\n",
        "\n",
        "nltk.download('stopwords')\n",
        "nltk.download('wordnet')\n",
        "nltk.download('punkt')\n",
        "\n",
        "# Basic Preprocessing function\n",
        "def preprocess(text):\n",
        "    text = re.sub(r'[^\\w\\s]', '', text).lower()\n",
        "    tokens = nltk.word_tokenize(text)\n",
        "    lemmatizer = WordNetLemmatizer()\n",
        "    lemmatized_tokens = [lemmatizer.lemmatize(token) for token in tokens if token not in stopwords.words('english')]\n",
        "    return ' '.join(lemmatized_tokens)\n",
        "\n",
        "data = pd.read_csv('train_data.csv')\n",
        "\n",
        "data['clean_text'] = data['text'].apply(preprocess)\n",
        "\n",
        "# Vectorize sentences\n",
        "vectorizer = TfidfVectorizer()\n",
        "X = vectorizer.fit_transform(data['clean_text'])\n",
        "\n",
        "# Encode labels\n",
        "le_tier1 = LabelEncoder()\n",
        "le_tier2 = LabelEncoder()\n",
        "le_tier3 = LabelEncoder()\n",
        "\n",
        "y_tier1 = le_tier1.fit_transform(data['TIER_1_WHICH_HALF'])\n",
        "y_tier2 = le_tier2.fit_transform(data['TIER_2_LETTER_RANGE'])\n",
        "y_tier3 = le_tier3.fit_transform(data['TIER_3_ACTUAL_LETTER'])\n",
        "\n",
        "# Train the decision tree classifiers\n",
        "clf_tier1 = DecisionTreeClassifier()\n",
        "clf_tier1.fit(X, y_tier1)\n",
        "\n",
        "clf_tier2_first14 = DecisionTreeClassifier()\n",
        "clf_tier2_last12 = DecisionTreeClassifier()\n",
        "\n",
        "clf_tier2_first14.fit(X[data['TIER_1_WHICH_HALF'] == 'FIRST 14 LETTERS'], y_tier2[data['TIER_1_WHICH_HALF'] == 'FIRST 14 LETTERS'])\n",
        "clf_tier2_last12.fit(X[data['TIER_1_WHICH_HALF'] == 'LAST 12 LETTERS'], y_tier2[data['TIER_1_WHICH_HALF'] == 'LAST 12 LETTERS'])\n",
        "\n",
        "# Create clfs_tier3 dictionary\n",
        "clfs_tier3 = {}\n",
        "for key in le_tier2.classes_:\n",
        "    idx = (data['TIER_2_LETTER_RANGE'] == key)\n",
        "    clf = DecisionTreeClassifier()\n",
        "    clf.fit(X[idx], y_tier3[idx])\n",
        "    clfs_tier3[key] = clf\n",
        "\n",
        "# Prediction function\n",
        "def predict_encoded_letter(sentence):\n",
        "    clean_sentence = preprocess(sentence)\n",
        "    x = vectorizer.transform([clean_sentence])\n",
        "\n",
        "    tier1_pred = clf_tier1.predict(x)\n",
        "    tier1_pred_label = le_tier1.inverse_transform(tier1_pred)[0]\n",
        "\n",
        "    if tier1_pred_label == 'FIRST 14 LETTERS':\n",
        "        tier2_pred = clf_tier2_first14.predict(x)\n",
        "    else:\n",
        "        tier2_pred = clf_tier2_last12.predict(x)\n",
        "\n",
        "    tier2_pred_label = le_tier2.inverse_transform(tier2_pred)[0]\n",
        "\n",
        "    tier3_pred = clfs_tier3[tier2_pred_label].predict(x)\n",
        "    tier3_pred_label = le_tier3.inverse_transform(tier3_pred)[0]\n",
        "\n",
        "    return tier3_pred_label\n",
        "\n",
        "# Get top 10 keywords/entities for each bucket\n",
        "def get_top_keywords(data, labels):\n",
        "    counters = {label: Counter() for label in labels}\n",
        "\n",
        "    for label, counter in counters.items():\n",
        "        idx = (data['TIER_2_LETTER_RANGE'] == label)\n",
        "        sentences = data['clean_text'][idx]\n",
        "\n",
        "        for sentence in sentences:\n",
        "            tokens = sentence.split()\n",
        "            for token in tokens:\n",
        "                counter[token] += 1\n",
        "\n",
        "    top_keywords = {label: counter.most_common(10) for label, counter in counters.items()}\n",
        "    return top_keywords\n",
        "\n",
        "# Example usage\n",
        "test_sentence = \"What is the capital of France?\"\n",
        "predicted_encoded_letter = predict_encoded_letter(test_sentence)\n",
        "print(f\"Predicted encoded letter: {predicted_encoded_letter}\")\n",
        "\n",
        "tier2_labels = data['TIER_2_LETTER_RANGE'].unique()\n",
        "top_keywords = get_top_keywords(data, tier2_labels)\n",
        "print(\"Top 10 keywords for each bucket:\")\n",
        "for label, keywords in top_keywords.items():\n",
        "    print(f\"{label}: {keywords}\")\n"
      ],
      "metadata": {
        "colab": {
          "base_uri": "https://localhost:8080/"
        },
        "id": "oflnPAgXaE0s",
        "outputId": "101c6198-dff7-442b-c46e-7d304e6e1b88"
      },
      "execution_count": 318,
      "outputs": [
        {
          "output_type": "stream",
          "name": "stdout",
          "text": [
            "Predicted encoded letter: d\n",
            "Top 10 keywords for each bucket:\n",
            "BETWEEN T AND Z: [('u', 3), ('capital', 2), ('named', 2), ('stand', 2), ('country', 1), ('mikhail', 1), ('gorbachev', 1), ('leader', 1), ('city', 1), ('two', 1)]\n",
            "BETWEEN A AND G: [('grow', 2), ('tip', 2), ('company', 1), ('us', 1), ('unfamiliar', 1), ('face', 1), ('celebrity', 1), ('spokespeople', 1), ('promote', 1), ('use', 1)]\n",
            "BETWEEN H AND N: [('name', 1), ('four', 1), ('horseman', 1), ('apocalypse', 1), ('much', 1), ('canadian', 1), ('1967', 1), ('twenty', 1), ('dollar', 1), ('gold', 1)]\n",
            "BETWEEN O AND S: [('nafta', 1), ('stand', 1), ('caliente', 1), ('mean', 1), ('english', 1), ('softest', 1), ('part', 1), ('body', 1), ('wrote', 1), ('scarlet', 1)]\n"
          ]
        },
        {
          "output_type": "stream",
          "name": "stderr",
          "text": [
            "[nltk_data] Downloading package stopwords to /root/nltk_data...\n",
            "[nltk_data]   Package stopwords is already up-to-date!\n",
            "[nltk_data] Downloading package wordnet to /root/nltk_data...\n",
            "[nltk_data]   Package wordnet is already up-to-date!\n",
            "[nltk_data] Downloading package punkt to /root/nltk_data...\n",
            "[nltk_data]   Package punkt is already up-to-date!\n"
          ]
        }
      ]
    },
    {
      "cell_type": "code",
      "source": [
        "import pandas as pd\n",
        "from sklearn.metrics import accuracy_score, classification_report\n",
        "\n",
        "# Load and preprocess the test data\n",
        "test_data = pd.read_csv(\"test_data.csv\")\n",
        "test_data['clean_text'] = test_data['text'].apply(preprocess)\n",
        "\n",
        "# Extract features from the test data\n",
        "X_test = vectorizer.transform(test_data['clean_text'])\n",
        "\n",
        "# Make predictions for the test data\n",
        "y_test_true = test_data['TIER_3_ACTUAL_LETTER']\n",
        "y_test_pred = [predict_encoded_letter(sentence) for sentence in test_data['text']]\n",
        "\n",
        "# Calculate evaluation metrics\n",
        "accuracy = accuracy_score(y_test_true, y_test_pred)\n",
        "print(f\"Accuracy: {accuracy:.2f}\")\n",
        "\n",
        "report = classification_report(y_test_true, y_test_pred)\n",
        "print(\"Classification report:\")\n",
        "print(report)\n"
      ],
      "metadata": {
        "colab": {
          "base_uri": "https://localhost:8080/"
        },
        "id": "nKSHAKfWaO1Y",
        "outputId": "c2edb2bf-6a8e-4d6d-d20c-2da7e02f8991"
      },
      "execution_count": 319,
      "outputs": [
        {
          "output_type": "stream",
          "name": "stdout",
          "text": [
            "Accuracy: 0.06\n",
            "Classification report:\n",
            "              precision    recall  f1-score   support\n",
            "\n",
            "           a       1.00      1.00      1.00         1\n",
            "           b       0.00      0.00      0.00         1\n",
            "           c       0.00      0.00      0.00         1\n",
            "           d       0.00      0.00      0.00         0\n",
            "           e       0.00      0.00      0.00         1\n",
            "           f       0.00      0.00      0.00         1\n",
            "           g       0.00      0.00      0.00         0\n",
            "           i       0.00      0.00      0.00         1\n",
            "           j       0.00      0.00      0.00         0\n",
            "           l       0.00      0.00      0.00         1\n",
            "           m       0.00      0.00      0.00         1\n",
            "           o       0.00      0.00      0.00         1\n",
            "           r       0.00      0.00      0.00         1\n",
            "           s       0.00      0.00      0.00         1\n",
            "           v       0.00      0.00      0.00         2\n",
            "           x       0.00      0.00      0.00         1\n",
            "           z       0.00      0.00      0.00         2\n",
            "\n",
            "    accuracy                           0.06        16\n",
            "   macro avg       0.06      0.06      0.06        16\n",
            "weighted avg       0.06      0.06      0.06        16\n",
            "\n"
          ]
        },
        {
          "output_type": "stream",
          "name": "stderr",
          "text": [
            "/usr/local/lib/python3.10/dist-packages/sklearn/metrics/_classification.py:1344: UndefinedMetricWarning: Precision and F-score are ill-defined and being set to 0.0 in labels with no predicted samples. Use `zero_division` parameter to control this behavior.\n",
            "  _warn_prf(average, modifier, msg_start, len(result))\n",
            "/usr/local/lib/python3.10/dist-packages/sklearn/metrics/_classification.py:1344: UndefinedMetricWarning: Recall and F-score are ill-defined and being set to 0.0 in labels with no true samples. Use `zero_division` parameter to control this behavior.\n",
            "  _warn_prf(average, modifier, msg_start, len(result))\n",
            "/usr/local/lib/python3.10/dist-packages/sklearn/metrics/_classification.py:1344: UndefinedMetricWarning: Precision and F-score are ill-defined and being set to 0.0 in labels with no predicted samples. Use `zero_division` parameter to control this behavior.\n",
            "  _warn_prf(average, modifier, msg_start, len(result))\n",
            "/usr/local/lib/python3.10/dist-packages/sklearn/metrics/_classification.py:1344: UndefinedMetricWarning: Recall and F-score are ill-defined and being set to 0.0 in labels with no true samples. Use `zero_division` parameter to control this behavior.\n",
            "  _warn_prf(average, modifier, msg_start, len(result))\n",
            "/usr/local/lib/python3.10/dist-packages/sklearn/metrics/_classification.py:1344: UndefinedMetricWarning: Precision and F-score are ill-defined and being set to 0.0 in labels with no predicted samples. Use `zero_division` parameter to control this behavior.\n",
            "  _warn_prf(average, modifier, msg_start, len(result))\n",
            "/usr/local/lib/python3.10/dist-packages/sklearn/metrics/_classification.py:1344: UndefinedMetricWarning: Recall and F-score are ill-defined and being set to 0.0 in labels with no true samples. Use `zero_division` parameter to control this behavior.\n",
            "  _warn_prf(average, modifier, msg_start, len(result))\n"
          ]
        }
      ]
    },
    {
      "cell_type": "code",
      "source": [],
      "metadata": {
        "id": "-SYApev2wMdo"
      },
      "execution_count": null,
      "outputs": []
    }
  ]
}